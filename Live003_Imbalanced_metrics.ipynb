{
 "cells": [
  {
   "cell_type": "markdown",
   "id": "73ede84d",
   "metadata": {},
   "source": [
    "# Entender o Problema"
   ]
  },
  {
   "cell_type": "markdown",
   "id": "baa4e99c",
   "metadata": {},
   "source": [
    "-- Objetivo do problema:\n",
    "    -- 1.0. Previsao do primeiro destino que um novo usuário irá escolher\n",
    "    \n",
    "    -- Porque?\n",
    "        -- Qual o tipo de modelo de negocio do Airbnb?\n",
    "            -- Marketplace ( Conectar pessoas que oferecem acomodacao, com pessoas que estao procurando acomodacao)\n",
    "            -- Oferta (pessoas oferecendo acomodacao)\n",
    "                -- Tamanho do portfolio.\n",
    "                -- Diversidade/Densidade de portfolio.\n",
    "                -- Preco medio\n",
    "                \n",
    "            -- Demanda (pessoas procurando acomodacao)\n",
    "                -- Numero de usuarios\n",
    "                -- LTV ( Lifetime Value )\n",
    "                -- CAC ( Client Acquisition Cost )\n",
    "                \n",
    "                \n",
    "                Gross Revenue = ( Fee*Numero clientes ) - CAC\n",
    "        \n",
    "-- Proposta de solucao\n",
    "\n",
    "    --- Modelo de Predicao do primeiro destino de um novo usuario\n",
    "    --- 1.0. Predicoes e salva em tabela do banco de dados\n",
    "    --- 2.0. API\n",
    "            --- Input: usuario e suas caracteristicas\n",
    "            --- Output: usuario e suas caracteristicas com a **predicao do destino**\n",
    "\n",
    "    --- 16 ciclos"
   ]
  },
  {
   "cell_type": "markdown",
   "id": "bf7e1758",
   "metadata": {
    "heading_collapsed": true
   },
   "source": [
    "# <font color='red'> Ciclo01: End to End </font>"
   ]
  },
  {
   "cell_type": "markdown",
   "id": "ea8e1a1a",
   "metadata": {
    "ExecuteTime": {
     "end_time": "2022-02-12T01:34:39.453646Z",
     "start_time": "2022-02-12T01:34:39.446133Z"
    }
   },
   "source": [
    "# Imports"
   ]
  },
  {
   "cell_type": "code",
   "execution_count": 109,
   "id": "686a9ef1",
   "metadata": {
    "ExecuteTime": {
     "end_time": "2022-02-13T21:13:17.870340Z",
     "start_time": "2022-02-13T21:13:17.865943Z"
    }
   },
   "outputs": [],
   "source": [
    "import pandas as pd\n",
    "import random\n",
    "import numpy as np\n",
    "import seaborn as sns\n",
    "\n",
    "from sklearn import model_selection as ms\n",
    "from sklearn import preprocessing as pp\n",
    "from sklearn import metrics as m\n",
    "from scikitplot import metrics as mt\n",
    "from scipy import stats as ss\n",
    "\n",
    "from keras import models as ml\n",
    "from keras import layers as l"
   ]
  },
  {
   "cell_type": "markdown",
   "id": "af4d25e6",
   "metadata": {},
   "source": [
    "## Helper Functions"
   ]
  },
  {
   "cell_type": "code",
   "execution_count": 90,
   "id": "6ebf6eda",
   "metadata": {
    "ExecuteTime": {
     "end_time": "2022-02-13T21:11:22.459125Z",
     "start_time": "2022-02-13T21:11:22.454188Z"
    }
   },
   "outputs": [],
   "source": [
    "def cramer_v( x, y ):\n",
    "    cm = pd.crosstab( x, y ).values\n",
    "    n = cm.sum()\n",
    "    r, k = cm.shape\n",
    "    \n",
    "    chi2 = ss.chi2_contingency( cm )[0]\n",
    "    chi2corr = max( 0, chi2 - (k-1)*(r-1)/(n-1) )\n",
    "    \n",
    "    kcorr = k - (k-1)**2/(n-1)\n",
    "    rcorr = r - (r-1)**2/(n-1)\n",
    "    \n",
    "    return np.sqrt( (chi2corr/n) / ( min( kcorr-1, rcorr-1 ) ) )"
   ]
  },
  {
   "cell_type": "markdown",
   "id": "765995b9",
   "metadata": {},
   "source": [
    "## Loading Data"
   ]
  },
  {
   "cell_type": "code",
   "execution_count": 91,
   "id": "026fb49f",
   "metadata": {
    "ExecuteTime": {
     "end_time": "2022-02-13T21:11:23.016441Z",
     "start_time": "2022-02-13T21:11:22.601294Z"
    }
   },
   "outputs": [
    {
     "data": {
      "text/plain": [
       "(213451, 16)"
      ]
     },
     "execution_count": 91,
     "metadata": {},
     "output_type": "execute_result"
    }
   ],
   "source": [
    "df_raw = pd.read_csv( 'dataset/training_users.csv', low_memory=True )\n",
    "df_raw.shape"
   ]
  },
  {
   "cell_type": "code",
   "execution_count": 92,
   "id": "236bcc1d",
   "metadata": {
    "ExecuteTime": {
     "end_time": "2022-02-13T21:11:29.045521Z",
     "start_time": "2022-02-13T21:11:23.577371Z"
    }
   },
   "outputs": [
    {
     "data": {
      "text/plain": [
       "(10567737, 6)"
      ]
     },
     "execution_count": 92,
     "metadata": {},
     "output_type": "execute_result"
    }
   ],
   "source": [
    "df_sessions = pd.read_csv( 'dataset/sessions.csv', low_memory=True )\n",
    "df_sessions.shape"
   ]
  },
  {
   "cell_type": "markdown",
   "id": "9fbc2d01",
   "metadata": {
    "ExecuteTime": {
     "end_time": "2022-02-12T01:34:59.521323Z",
     "start_time": "2022-02-12T01:34:59.514130Z"
    }
   },
   "source": [
    "# Data Description"
   ]
  },
  {
   "cell_type": "code",
   "execution_count": 93,
   "id": "ac516af8",
   "metadata": {
    "ExecuteTime": {
     "end_time": "2022-02-13T21:11:29.336175Z",
     "start_time": "2022-02-13T21:11:29.321398Z"
    }
   },
   "outputs": [],
   "source": [
    "df1 = df_raw.copy()"
   ]
  },
  {
   "cell_type": "markdown",
   "id": "454cbb16",
   "metadata": {},
   "source": [
    "## Data Dimensions"
   ]
  },
  {
   "cell_type": "code",
   "execution_count": 94,
   "id": "6380b4c1",
   "metadata": {
    "ExecuteTime": {
     "end_time": "2022-02-13T21:11:29.664788Z",
     "start_time": "2022-02-13T21:11:29.607195Z"
    }
   },
   "outputs": [
    {
     "name": "stdout",
     "output_type": "stream",
     "text": [
      "Number of rows: 213451\n",
      "Number of columss: 16\n"
     ]
    }
   ],
   "source": [
    "print( 'Number of rows: {}'.format( df1.shape[0] ) )\n",
    "print( 'Number of columss: {}'.format( df1.shape[1] ) )"
   ]
  },
  {
   "cell_type": "code",
   "execution_count": 95,
   "id": "82d4f245",
   "metadata": {
    "ExecuteTime": {
     "end_time": "2022-02-13T21:11:30.276662Z",
     "start_time": "2022-02-13T21:11:29.942769Z"
    }
   },
   "outputs": [
    {
     "name": "stdout",
     "output_type": "stream",
     "text": [
      "Number of rows: 10567737\n",
      "Number of columss: 6\n"
     ]
    }
   ],
   "source": [
    "print( 'Number of rows: {}'.format( df_sessions.shape[0] ) )\n",
    "print( 'Number of columss: {}'.format( df_sessions.shape[1] ) )"
   ]
  },
  {
   "cell_type": "markdown",
   "id": "fd6841d0",
   "metadata": {},
   "source": [
    "## Data Type"
   ]
  },
  {
   "cell_type": "code",
   "execution_count": 96,
   "id": "3d6c7c94",
   "metadata": {
    "ExecuteTime": {
     "end_time": "2022-02-13T21:11:30.618166Z",
     "start_time": "2022-02-13T21:11:30.612285Z"
    }
   },
   "outputs": [
    {
     "data": {
      "text/plain": [
       "id                          object\n",
       "date_account_created        object\n",
       "timestamp_first_active       int64\n",
       "date_first_booking          object\n",
       "gender                      object\n",
       "age                        float64\n",
       "signup_method               object\n",
       "signup_flow                  int64\n",
       "language                    object\n",
       "affiliate_channel           object\n",
       "affiliate_provider          object\n",
       "first_affiliate_tracked     object\n",
       "signup_app                  object\n",
       "first_device_type           object\n",
       "first_browser               object\n",
       "country_destination         object\n",
       "dtype: object"
      ]
     },
     "execution_count": 96,
     "metadata": {},
     "output_type": "execute_result"
    }
   ],
   "source": [
    "df1.dtypes"
   ]
  },
  {
   "cell_type": "code",
   "execution_count": 97,
   "id": "2dc11a40",
   "metadata": {
    "ExecuteTime": {
     "end_time": "2022-02-13T21:11:30.969995Z",
     "start_time": "2022-02-13T21:11:30.963028Z"
    }
   },
   "outputs": [
    {
     "data": {
      "text/plain": [
       "user_id           object\n",
       "action            object\n",
       "action_type       object\n",
       "action_detail     object\n",
       "device_type       object\n",
       "secs_elapsed     float64\n",
       "dtype: object"
      ]
     },
     "execution_count": 97,
     "metadata": {},
     "output_type": "execute_result"
    }
   ],
   "source": [
    "df_sessions.dtypes"
   ]
  },
  {
   "cell_type": "markdown",
   "id": "5e4ce3ab",
   "metadata": {},
   "source": [
    "## NA check"
   ]
  },
  {
   "cell_type": "code",
   "execution_count": 98,
   "id": "72b2149b",
   "metadata": {
    "ExecuteTime": {
     "end_time": "2022-02-13T21:11:31.569661Z",
     "start_time": "2022-02-13T21:11:31.241114Z"
    }
   },
   "outputs": [
    {
     "data": {
      "text/plain": [
       "id                         0.000000\n",
       "date_account_created       0.000000\n",
       "timestamp_first_active     0.000000\n",
       "date_first_booking         0.583473\n",
       "gender                     0.000000\n",
       "age                        0.412226\n",
       "signup_method              0.000000\n",
       "signup_flow                0.000000\n",
       "language                   0.000000\n",
       "affiliate_channel          0.000000\n",
       "affiliate_provider         0.000000\n",
       "first_affiliate_tracked    0.028414\n",
       "signup_app                 0.000000\n",
       "first_device_type          0.000000\n",
       "first_browser              0.000000\n",
       "country_destination        0.000000\n",
       "dtype: float64"
      ]
     },
     "execution_count": 98,
     "metadata": {},
     "output_type": "execute_result"
    }
   ],
   "source": [
    "df1.isna().sum() / len( df1 )"
   ]
  },
  {
   "cell_type": "code",
   "execution_count": 99,
   "id": "a3fe27f3",
   "metadata": {
    "ExecuteTime": {
     "end_time": "2022-02-13T21:11:37.327298Z",
     "start_time": "2022-02-13T21:11:31.846507Z"
    }
   },
   "outputs": [
    {
     "data": {
      "text/plain": [
       "user_id          0.003264\n",
       "action           0.007535\n",
       "action_type      0.106570\n",
       "action_detail    0.106570\n",
       "device_type      0.000000\n",
       "secs_elapsed     0.012872\n",
       "dtype: float64"
      ]
     },
     "execution_count": 99,
     "metadata": {},
     "output_type": "execute_result"
    }
   ],
   "source": [
    "df_sessions.isna().sum() / len( df_sessions )"
   ]
  },
  {
   "cell_type": "code",
   "execution_count": 100,
   "id": "346ae16e",
   "metadata": {
    "ExecuteTime": {
     "end_time": "2022-02-13T21:11:41.950649Z",
     "start_time": "2022-02-13T21:11:37.575667Z"
    }
   },
   "outputs": [],
   "source": [
    "# remove missing value completly\n",
    "# df1 = df1.dropna()\n",
    "\n",
    "# ================= User =================\n",
    "# date_first_booking\n",
    "date_first_booking_max = pd.to_datetime( df1['date_first_booking'] ).max().strftime( '%Y-%m-%d')\n",
    "df1['date_first_booking'] = df1['date_first_booking'].fillna( date_first_booking_max )\n",
    "\n",
    "# age\n",
    "avg_age = df1['age'].mean().astype( int )\n",
    "df1['age'] = df1['age'].fillna( avg_age )\n",
    "\n",
    "# first_affiliate_tracked\n",
    "df1 = df1[~df1['first_affiliate_tracked'].isna()]\n",
    "\n",
    "# ================= Sessions =============\n",
    "# user_id - 0.3%\n",
    "df_sessions = df_sessions[~df_sessions['user_id'].isna()]\n",
    "\n",
    "# action - 0.7%\n",
    "df_sessions = df_sessions[~df_sessions['action'].isna()]\n",
    "\n",
    "# action_type - 11%\n",
    "df_sessions = df_sessions[~df_sessions['action_type'].isna()]\n",
    "\n",
    "# action_detail - 11%\n",
    "df_sessions = df_sessions[~df_sessions['action_detail'].isna()]\n",
    "\n",
    "# secs_elapsed - 1.2%\n",
    "df_sessions = df_sessions[~df_sessions['secs_elapsed'].isna()]"
   ]
  },
  {
   "cell_type": "markdown",
   "id": "e9d5ad69",
   "metadata": {},
   "source": [
    "## Change Data Type"
   ]
  },
  {
   "cell_type": "code",
   "execution_count": 101,
   "id": "ab3a217d",
   "metadata": {
    "ExecuteTime": {
     "end_time": "2022-02-13T21:11:42.240179Z",
     "start_time": "2022-02-13T21:11:42.235043Z"
    }
   },
   "outputs": [
    {
     "data": {
      "text/plain": [
       "id                          object\n",
       "date_account_created        object\n",
       "timestamp_first_active       int64\n",
       "date_first_booking          object\n",
       "gender                      object\n",
       "age                        float64\n",
       "signup_method               object\n",
       "signup_flow                  int64\n",
       "language                    object\n",
       "affiliate_channel           object\n",
       "affiliate_provider          object\n",
       "first_affiliate_tracked     object\n",
       "signup_app                  object\n",
       "first_device_type           object\n",
       "first_browser               object\n",
       "country_destination         object\n",
       "dtype: object"
      ]
     },
     "execution_count": 101,
     "metadata": {},
     "output_type": "execute_result"
    }
   ],
   "source": [
    "df1.dtypes"
   ]
  },
  {
   "cell_type": "code",
   "execution_count": 102,
   "id": "ed6950f7",
   "metadata": {
    "ExecuteTime": {
     "end_time": "2022-02-13T21:11:43.204409Z",
     "start_time": "2022-02-13T21:11:42.496450Z"
    }
   },
   "outputs": [],
   "source": [
    "# date_account_created\n",
    "df1['date_account_created'] = pd.to_datetime( df1['date_account_created'] )\n",
    "\n",
    "# timestamp_first_active\n",
    "df1['timestamp_first_active'] = pd.to_datetime( df1['timestamp_first_active'], format='%Y%m%d%H%M%S' )\n",
    "\n",
    "# date_first_booking\n",
    "df1['date_first_booking'] = pd.to_datetime( df1['date_first_booking'])\n",
    "\n",
    "# age\n",
    "df1['age'] = df1['age'].astype( int )"
   ]
  },
  {
   "cell_type": "markdown",
   "id": "9fb04b14",
   "metadata": {
    "ExecuteTime": {
     "end_time": "2022-02-12T01:48:12.784079Z",
     "start_time": "2022-02-12T01:48:12.778126Z"
    }
   },
   "source": [
    "## Check Balanced Data"
   ]
  },
  {
   "cell_type": "code",
   "execution_count": 103,
   "id": "cf999e45",
   "metadata": {
    "ExecuteTime": {
     "end_time": "2022-02-13T21:11:43.472174Z",
     "start_time": "2022-02-13T21:11:43.453775Z"
    }
   },
   "outputs": [
    {
     "data": {
      "text/plain": [
       "NDF      0.579673\n",
       "US       0.294461\n",
       "other    0.048128\n",
       "FR       0.023623\n",
       "IT       0.013458\n",
       "GB       0.011066\n",
       "ES       0.010671\n",
       "CA       0.006707\n",
       "DE       0.005020\n",
       "NL       0.003621\n",
       "AU       0.002541\n",
       "PT       0.001032\n",
       "Name: country_destination, dtype: float64"
      ]
     },
     "execution_count": 103,
     "metadata": {},
     "output_type": "execute_result"
    }
   ],
   "source": [
    "df1['country_destination'].value_counts( normalize=True )"
   ]
  },
  {
   "cell_type": "markdown",
   "id": "0a35e838",
   "metadata": {},
   "source": [
    "## Descriptive Analysis"
   ]
  },
  {
   "cell_type": "code",
   "execution_count": 104,
   "id": "29a78f97",
   "metadata": {
    "ExecuteTime": {
     "end_time": "2022-02-13T21:11:43.723446Z",
     "start_time": "2022-02-13T21:11:43.718006Z"
    }
   },
   "outputs": [],
   "source": [
    "# Users\n",
    "num_attributes = df1.select_dtypes( include=['int64', 'float64'] )\n",
    "cat_attributes = df1.select_dtypes( exclude=['int64', 'float64', 'datetime64[ns]'] )\n",
    "time_attributes = df1.select_dtypes( include=['datetime64[ns]'])\n",
    "\n",
    "# Sessions\n",
    "num_attributes_sessions = df_sessions.select_dtypes( include=['int64', 'float64'] )\n",
    "cat_attributes_sessions = df_sessions.select_dtypes( exclude=['int64', 'float64', 'datetime64[ns]'] )\n",
    "time_attributes_sessions = df_sessions.select_dtypes( include=['datetime64[ns]'])"
   ]
  },
  {
   "cell_type": "markdown",
   "id": "043d9107",
   "metadata": {},
   "source": [
    "### Numerical - Users"
   ]
  },
  {
   "cell_type": "code",
   "execution_count": 105,
   "id": "75b69c0d",
   "metadata": {
    "ExecuteTime": {
     "end_time": "2022-02-13T21:11:44.118935Z",
     "start_time": "2022-02-13T21:11:43.985970Z"
    }
   },
   "outputs": [
    {
     "data": {
      "text/html": [
       "<div>\n",
       "<style scoped>\n",
       "    .dataframe tbody tr th:only-of-type {\n",
       "        vertical-align: middle;\n",
       "    }\n",
       "\n",
       "    .dataframe tbody tr th {\n",
       "        vertical-align: top;\n",
       "    }\n",
       "\n",
       "    .dataframe thead th {\n",
       "        text-align: right;\n",
       "    }\n",
       "</style>\n",
       "<table border=\"1\" class=\"dataframe\">\n",
       "  <thead>\n",
       "    <tr style=\"text-align: right;\">\n",
       "      <th></th>\n",
       "      <th>attributes</th>\n",
       "      <th>min</th>\n",
       "      <th>max</th>\n",
       "      <th>range</th>\n",
       "      <th>mean</th>\n",
       "      <th>median</th>\n",
       "      <th>std</th>\n",
       "      <th>skew</th>\n",
       "      <th>kurtosis</th>\n",
       "    </tr>\n",
       "  </thead>\n",
       "  <tbody>\n",
       "    <tr>\n",
       "      <th>0</th>\n",
       "      <td>age</td>\n",
       "      <td>1.0</td>\n",
       "      <td>2014.0</td>\n",
       "      <td>2013.0</td>\n",
       "      <td>49.183142</td>\n",
       "      <td>49.0</td>\n",
       "      <td>118.421689</td>\n",
       "      <td>16.333820</td>\n",
       "      <td>267.655434</td>\n",
       "    </tr>\n",
       "    <tr>\n",
       "      <th>1</th>\n",
       "      <td>signup_flow</td>\n",
       "      <td>0.0</td>\n",
       "      <td>25.0</td>\n",
       "      <td>25.0</td>\n",
       "      <td>3.151490</td>\n",
       "      <td>0.0</td>\n",
       "      <td>7.543915</td>\n",
       "      <td>2.287158</td>\n",
       "      <td>3.567794</td>\n",
       "    </tr>\n",
       "  </tbody>\n",
       "</table>\n",
       "</div>"
      ],
      "text/plain": [
       "    attributes  min     max   range       mean  median         std       skew  \\\n",
       "0          age  1.0  2014.0  2013.0  49.183142    49.0  118.421689  16.333820   \n",
       "1  signup_flow  0.0    25.0    25.0   3.151490     0.0    7.543915   2.287158   \n",
       "\n",
       "     kurtosis  \n",
       "0  267.655434  \n",
       "1    3.567794  "
      ]
     },
     "execution_count": 105,
     "metadata": {},
     "output_type": "execute_result"
    }
   ],
   "source": [
    "# Central Tendency - Mean, Mediana\n",
    "ct1 = pd.DataFrame( num_attributes.apply( np.mean ) ).T\n",
    "ct2 = pd.DataFrame( num_attributes.apply( np.median ) ).T\n",
    "\n",
    "# Dispersions - Std, Min, Max, Range, Skew, Kurtosis\n",
    "d1 = pd.DataFrame( num_attributes.apply( np.std )).T\n",
    "d2 = pd.DataFrame( num_attributes.apply( min )).T\n",
    "d3 = pd.DataFrame( num_attributes.apply( max )).T\n",
    "d4 = pd.DataFrame( num_attributes.apply( lambda x: x.max() - x.min() ) ).T\n",
    "d5 = pd.DataFrame( num_attributes.apply( lambda x: x.skew() )).T\n",
    "d6 = pd.DataFrame( num_attributes.apply( lambda x: x.kurtosis() )).T\n",
    "\n",
    "# Concatenar\n",
    "ct = pd.concat( [d2, d3, d4, ct1, ct2, d1, d5, d6] ).T.reset_index()\n",
    "ct.columns = ['attributes', 'min', 'max', 'range', 'mean', 'median', 'std', 'skew', 'kurtosis']\n",
    "ct"
   ]
  },
  {
   "cell_type": "markdown",
   "id": "1e5d935d",
   "metadata": {},
   "source": [
    "### Numerical - Sessions"
   ]
  },
  {
   "cell_type": "code",
   "execution_count": 106,
   "id": "e0de2080",
   "metadata": {
    "ExecuteTime": {
     "end_time": "2022-02-13T21:11:46.618607Z",
     "start_time": "2022-02-13T21:11:44.597977Z"
    }
   },
   "outputs": [
    {
     "data": {
      "text/html": [
       "<div>\n",
       "<style scoped>\n",
       "    .dataframe tbody tr th:only-of-type {\n",
       "        vertical-align: middle;\n",
       "    }\n",
       "\n",
       "    .dataframe tbody tr th {\n",
       "        vertical-align: top;\n",
       "    }\n",
       "\n",
       "    .dataframe thead th {\n",
       "        text-align: right;\n",
       "    }\n",
       "</style>\n",
       "<table border=\"1\" class=\"dataframe\">\n",
       "  <thead>\n",
       "    <tr style=\"text-align: right;\">\n",
       "      <th></th>\n",
       "      <th>attributes</th>\n",
       "      <th>min</th>\n",
       "      <th>max</th>\n",
       "      <th>range</th>\n",
       "      <th>mean</th>\n",
       "      <th>median</th>\n",
       "      <th>std</th>\n",
       "      <th>skew</th>\n",
       "      <th>kurtosis</th>\n",
       "    </tr>\n",
       "  </thead>\n",
       "  <tbody>\n",
       "    <tr>\n",
       "      <th>0</th>\n",
       "      <td>secs_elapsed</td>\n",
       "      <td>0.0</td>\n",
       "      <td>1799977.0</td>\n",
       "      <td>1799977.0</td>\n",
       "      <td>19961.8251</td>\n",
       "      <td>1369.0</td>\n",
       "      <td>88849.388449</td>\n",
       "      <td>11.137761</td>\n",
       "      <td>154.84312</td>\n",
       "    </tr>\n",
       "  </tbody>\n",
       "</table>\n",
       "</div>"
      ],
      "text/plain": [
       "     attributes  min        max      range        mean  median           std  \\\n",
       "0  secs_elapsed  0.0  1799977.0  1799977.0  19961.8251  1369.0  88849.388449   \n",
       "\n",
       "        skew   kurtosis  \n",
       "0  11.137761  154.84312  "
      ]
     },
     "execution_count": 106,
     "metadata": {},
     "output_type": "execute_result"
    }
   ],
   "source": [
    "# Central Tendency - Mean, Mediana\n",
    "ct1 = pd.DataFrame( num_attributes_sessions.apply( np.mean ) ).T\n",
    "ct2 = pd.DataFrame( num_attributes_sessions.apply( np.median ) ).T\n",
    "\n",
    "# Dispersions - Std, Min, Max, Range, Skew, Kurtosis\n",
    "d1 = pd.DataFrame( num_attributes_sessions.apply( np.std )).T\n",
    "d2 = pd.DataFrame( num_attributes_sessions.apply( min )).T\n",
    "d3 = pd.DataFrame( num_attributes_sessions.apply( max )).T\n",
    "d4 = pd.DataFrame( num_attributes_sessions.apply( lambda x: x.max() - x.min() ) ).T\n",
    "d5 = pd.DataFrame( num_attributes_sessions.apply( lambda x: x.skew() )).T\n",
    "d6 = pd.DataFrame( num_attributes_sessions.apply( lambda x: x.kurtosis() )).T\n",
    "\n",
    "# Concatenar\n",
    "ct = pd.concat( [d2, d3, d4, ct1, ct2, d1, d5, d6] ).T.reset_index()\n",
    "ct.columns = ['attributes', 'min', 'max', 'range', 'mean', 'median', 'std', 'skew', 'kurtosis']\n",
    "ct"
   ]
  },
  {
   "cell_type": "markdown",
   "id": "529f4db5",
   "metadata": {},
   "source": [
    "### Categorical - Users"
   ]
  },
  {
   "cell_type": "code",
   "execution_count": 107,
   "id": "9ab87b0a",
   "metadata": {
    "ExecuteTime": {
     "end_time": "2022-02-13T21:11:48.626847Z",
     "start_time": "2022-02-13T21:11:48.349543Z"
    }
   },
   "outputs": [
    {
     "data": {
      "text/html": [
       "<div>\n",
       "<style scoped>\n",
       "    .dataframe tbody tr th:only-of-type {\n",
       "        vertical-align: middle;\n",
       "    }\n",
       "\n",
       "    .dataframe tbody tr th {\n",
       "        vertical-align: top;\n",
       "    }\n",
       "\n",
       "    .dataframe thead th {\n",
       "        text-align: right;\n",
       "    }\n",
       "</style>\n",
       "<table border=\"1\" class=\"dataframe\">\n",
       "  <thead>\n",
       "    <tr style=\"text-align: right;\">\n",
       "      <th></th>\n",
       "      <th>gender</th>\n",
       "      <th>signup_method</th>\n",
       "      <th>language</th>\n",
       "      <th>affiliate_channel</th>\n",
       "      <th>affiliate_provider</th>\n",
       "      <th>first_affiliate_tracked</th>\n",
       "      <th>signup_app</th>\n",
       "      <th>first_device_type</th>\n",
       "      <th>first_browser</th>\n",
       "      <th>country_destination</th>\n",
       "    </tr>\n",
       "  </thead>\n",
       "  <tbody>\n",
       "    <tr>\n",
       "      <th>count</th>\n",
       "      <td>207386</td>\n",
       "      <td>207386</td>\n",
       "      <td>207386</td>\n",
       "      <td>207386</td>\n",
       "      <td>207386</td>\n",
       "      <td>207386</td>\n",
       "      <td>207386</td>\n",
       "      <td>207386</td>\n",
       "      <td>207386</td>\n",
       "      <td>207386</td>\n",
       "    </tr>\n",
       "    <tr>\n",
       "      <th>unique</th>\n",
       "      <td>4</td>\n",
       "      <td>3</td>\n",
       "      <td>25</td>\n",
       "      <td>8</td>\n",
       "      <td>18</td>\n",
       "      <td>7</td>\n",
       "      <td>4</td>\n",
       "      <td>9</td>\n",
       "      <td>52</td>\n",
       "      <td>12</td>\n",
       "    </tr>\n",
       "    <tr>\n",
       "      <th>top</th>\n",
       "      <td>-unknown-</td>\n",
       "      <td>basic</td>\n",
       "      <td>en</td>\n",
       "      <td>direct</td>\n",
       "      <td>direct</td>\n",
       "      <td>untracked</td>\n",
       "      <td>Web</td>\n",
       "      <td>Mac Desktop</td>\n",
       "      <td>Chrome</td>\n",
       "      <td>NDF</td>\n",
       "    </tr>\n",
       "    <tr>\n",
       "      <th>freq</th>\n",
       "      <td>91783</td>\n",
       "      <td>148297</td>\n",
       "      <td>200415</td>\n",
       "      <td>134179</td>\n",
       "      <td>133935</td>\n",
       "      <td>109232</td>\n",
       "      <td>178334</td>\n",
       "      <td>89600</td>\n",
       "      <td>63845</td>\n",
       "      <td>120216</td>\n",
       "    </tr>\n",
       "  </tbody>\n",
       "</table>\n",
       "</div>"
      ],
      "text/plain": [
       "           gender signup_method language affiliate_channel affiliate_provider  \\\n",
       "count      207386        207386   207386            207386             207386   \n",
       "unique          4             3       25                 8                 18   \n",
       "top     -unknown-         basic       en            direct             direct   \n",
       "freq        91783        148297   200415            134179             133935   \n",
       "\n",
       "       first_affiliate_tracked signup_app first_device_type first_browser  \\\n",
       "count                   207386     207386            207386        207386   \n",
       "unique                       7          4                 9            52   \n",
       "top                  untracked        Web       Mac Desktop        Chrome   \n",
       "freq                    109232     178334             89600         63845   \n",
       "\n",
       "       country_destination  \n",
       "count               207386  \n",
       "unique                  12  \n",
       "top                    NDF  \n",
       "freq                120216  "
      ]
     },
     "execution_count": 107,
     "metadata": {},
     "output_type": "execute_result"
    }
   ],
   "source": [
    "cat_attributes.drop( 'id', axis=1).describe()"
   ]
  },
  {
   "cell_type": "markdown",
   "id": "02267dc2",
   "metadata": {},
   "source": [
    "### Categorical - Session"
   ]
  },
  {
   "cell_type": "code",
   "execution_count": 114,
   "id": "28fc20d7",
   "metadata": {
    "ExecuteTime": {
     "end_time": "2022-02-13T21:16:46.016340Z",
     "start_time": "2022-02-13T21:16:42.388019Z"
    }
   },
   "outputs": [
    {
     "data": {
      "text/html": [
       "<div>\n",
       "<style scoped>\n",
       "    .dataframe tbody tr th:only-of-type {\n",
       "        vertical-align: middle;\n",
       "    }\n",
       "\n",
       "    .dataframe tbody tr th {\n",
       "        vertical-align: top;\n",
       "    }\n",
       "\n",
       "    .dataframe thead th {\n",
       "        text-align: right;\n",
       "    }\n",
       "</style>\n",
       "<table border=\"1\" class=\"dataframe\">\n",
       "  <thead>\n",
       "    <tr style=\"text-align: right;\">\n",
       "      <th></th>\n",
       "      <th>action</th>\n",
       "      <th>action_type</th>\n",
       "      <th>action_detail</th>\n",
       "      <th>device_type</th>\n",
       "    </tr>\n",
       "  </thead>\n",
       "  <tbody>\n",
       "    <tr>\n",
       "      <th>count</th>\n",
       "      <td>9213930</td>\n",
       "      <td>9213930</td>\n",
       "      <td>9213930</td>\n",
       "      <td>9213930</td>\n",
       "    </tr>\n",
       "    <tr>\n",
       "      <th>unique</th>\n",
       "      <td>347</td>\n",
       "      <td>10</td>\n",
       "      <td>155</td>\n",
       "      <td>14</td>\n",
       "    </tr>\n",
       "    <tr>\n",
       "      <th>top</th>\n",
       "      <td>show</td>\n",
       "      <td>view</td>\n",
       "      <td>view_search_results</td>\n",
       "      <td>Mac Desktop</td>\n",
       "    </tr>\n",
       "    <tr>\n",
       "      <th>freq</th>\n",
       "      <td>2178382</td>\n",
       "      <td>3545621</td>\n",
       "      <td>1770931</td>\n",
       "      <td>3019523</td>\n",
       "    </tr>\n",
       "  </tbody>\n",
       "</table>\n",
       "</div>"
      ],
      "text/plain": [
       "         action action_type        action_detail  device_type\n",
       "count   9213930     9213930              9213930      9213930\n",
       "unique      347          10                  155           14\n",
       "top        show        view  view_search_results  Mac Desktop\n",
       "freq    2178382     3545621              1770931      3019523"
      ]
     },
     "execution_count": 114,
     "metadata": {},
     "output_type": "execute_result"
    }
   ],
   "source": [
    "cat_attributes_sessions.drop( 'user_id', axis=1 ).describe()"
   ]
  },
  {
   "cell_type": "code",
   "execution_count": 111,
   "id": "e5f8b7a9",
   "metadata": {
    "ExecuteTime": {
     "end_time": "2022-02-13T21:14:13.011633Z",
     "start_time": "2022-02-13T21:13:43.293867Z"
    }
   },
   "outputs": [],
   "source": [
    "# list of attributes for Cramer's V correlation\n",
    "cat_attributes_list = cat_attributes_sessions.drop( 'user_id', axis=1).columns.tolist()\n",
    "\n",
    "corr_dict = {}\n",
    "for i in range( len( cat_attributes_list ) ):\n",
    "    corr_list = []\n",
    "    for j in range( len( cat_attributes_list ) ):\n",
    "        ref = cat_attributes_list[i]\n",
    "        feat = cat_attributes_list[j]\n",
    "        \n",
    "        ## correlation\n",
    "        corr = cramer_v( cat_attributes_sessions[ ref ], cat_attributes_sessions[ feat ])\n",
    "        \n",
    "        # append a list\n",
    "        corr_list.append( corr )\n",
    "        \n",
    "    # append a correlation list for each ref attributs\n",
    "    corr_dict[ref] = corr_list"
   ]
  },
  {
   "cell_type": "code",
   "execution_count": 112,
   "id": "5dd8288c",
   "metadata": {
    "ExecuteTime": {
     "end_time": "2022-02-13T21:14:50.483166Z",
     "start_time": "2022-02-13T21:14:50.301085Z"
    }
   },
   "outputs": [
    {
     "data": {
      "text/plain": [
       "<AxesSubplot:>"
      ]
     },
     "execution_count": 112,
     "metadata": {},
     "output_type": "execute_result"
    },
    {
     "data": {
      "image/png": "[encoded data removed]",
      "text/plain": [
       "<Figure size 432x288 with 2 Axes>"
      ]
     },
     "metadata": {
      "needs_background": "light"
     },
     "output_type": "display_data"
    }
   ],
   "source": [
    "d = pd.DataFrame( corr_dict )\n",
    "d = d.set_index( d.columns )\n",
    "sns.heatmap( d, annot=True)"
   ]
  },
  {
   "cell_type": "markdown",
   "id": "0213d58c",
   "metadata": {},
   "source": [
    "# Feature Engineering"
   ]
  },
  {
   "cell_type": "code",
   "execution_count": 115,
   "id": "306cc8c8",
   "metadata": {
    "ExecuteTime": {
     "end_time": "2022-02-13T21:18:51.209079Z",
     "start_time": "2022-02-13T21:18:51.192663Z"
    }
   },
   "outputs": [],
   "source": [
    "df2 = df1.copy()"
   ]
  },
  {
   "cell_type": "code",
   "execution_count": 116,
   "id": "975bef8f",
   "metadata": {
    "ExecuteTime": {
     "end_time": "2022-02-13T21:18:58.839764Z",
     "start_time": "2022-02-13T21:18:58.822590Z"
    }
   },
   "outputs": [
    {
     "data": {
      "text/plain": [
       "id                                 object\n",
       "date_account_created       datetime64[ns]\n",
       "timestamp_first_active     datetime64[ns]\n",
       "date_first_booking         datetime64[ns]\n",
       "gender                             object\n",
       "age                                 int64\n",
       "signup_method                      object\n",
       "signup_flow                         int64\n",
       "language                           object\n",
       "affiliate_channel                  object\n",
       "affiliate_provider                 object\n",
       "first_affiliate_tracked            object\n",
       "signup_app                         object\n",
       "first_device_type                  object\n",
       "first_browser                      object\n",
       "country_destination                object\n",
       "dtype: object"
      ]
     },
     "execution_count": 116,
     "metadata": {},
     "output_type": "execute_result"
    }
   ],
   "source": [
    "df2.dtypes"
   ]
  },
  {
   "cell_type": "markdown",
   "id": "f9475471",
   "metadata": {},
   "source": [
    "## Create New Features"
   ]
  },
  {
   "cell_type": "code",
   "execution_count": 125,
   "id": "345820ab",
   "metadata": {
    "ExecuteTime": {
     "end_time": "2022-02-13T21:39:27.816986Z",
     "start_time": "2022-02-13T21:39:20.387056Z"
    }
   },
   "outputs": [
    {
     "name": "stderr",
     "output_type": "stream",
     "text": [
      "/tmp/ipykernel_267809/2124150632.py:26: FutureWarning: Series.dt.weekofyear and Series.dt.week have been deprecated. Please use Series.dt.isocalendar().week instead.\n",
      "  df2['week_of_year_first_active'] = df2['first_active'].dt.weekofyear\n",
      "/tmp/ipykernel_267809/2124150632.py:42: FutureWarning: Series.dt.weekofyear and Series.dt.week have been deprecated. Please use Series.dt.isocalendar().week instead.\n",
      "  df2['week_of_year_first_booking'] = df2['date_first_booking'].dt.weekofyear\n",
      "/tmp/ipykernel_267809/2124150632.py:58: FutureWarning: Series.dt.weekofyear and Series.dt.week have been deprecated. Please use Series.dt.isocalendar().week instead.\n",
      "  df2['week_of_year_account_created'] = df2['date_account_created'].dt.weekofyear\n"
     ]
    }
   ],
   "source": [
    "# days from first active up to first booking\n",
    "df2['first_active'] = pd.to_datetime( df2['timestamp_first_active'].dt.strftime('%Y-%m-%d') )\n",
    "df2['days_from_first_active_until_booking'] = (df2['date_first_booking'] - df2['first_active']).apply( lambda x: x.days)\n",
    "\n",
    "# days from first active up to account created\n",
    "df2['days_from_first_active_until_account_created'] = (df2['date_account_created'] - df2['first_active']).apply( lambda x: x.days)\n",
    "\n",
    "\n",
    "# days from account created up to first booking\n",
    "df2['days_from_account_created_until_first_booking'] = (df2['date_first_booking'] - df2['date_account_created']).apply( lambda x: x.days)\n",
    "\n",
    "# ================= First active ===============\n",
    "# year first active\n",
    "df2['year_first_active'] = df2['first_active'].dt.year\n",
    "\n",
    "# month first active\n",
    "df2['month_first_active'] = df2['first_active'].dt.month\n",
    "\n",
    "# day first active\n",
    "df2['day_first_active'] = df2['first_active'].dt.day\n",
    "\n",
    "# day of week first active\n",
    "df2['day_of_week_first_active'] = df2['first_active'].dt.dayofweek\n",
    "\n",
    "# week of year first active\n",
    "df2['week_of_year_first_active'] = df2['first_active'].dt.weekofyear\n",
    "\n",
    "# ================= First Booking ===============\n",
    "# year first booking\n",
    "df2['year_first_booking'] = df2['date_first_booking'].dt.year\n",
    "\n",
    "# month first booking\n",
    "df2['month_first_booking'] = df2['date_first_booking'].dt.month\n",
    "\n",
    "# day first booking\n",
    "df2['day_first_booking'] = df2['date_first_booking'].dt.day\n",
    "\n",
    "# day of week first booking\n",
    "df2['day_of_week_first_booking'] = df2['date_first_booking'].dt.dayofweek\n",
    "\n",
    "# week of year first booking\n",
    "df2['week_of_year_first_booking'] = df2['date_first_booking'].dt.weekofyear\n",
    "\n",
    "# ================= Account Created ===============\n",
    "# year first booking\n",
    "df2['year_account_created'] = df2['date_account_created'].dt.year\n",
    "\n",
    "# month first booking\n",
    "df2['month_account_created'] = df2['date_account_created'].dt.month\n",
    "\n",
    "# day first booking\n",
    "df2['day_account_created'] = df2['date_account_created'].dt.day\n",
    "\n",
    "# day of week first booking\n",
    "df2['day_of_week_account_created'] = df2['date_account_created'].dt.dayofweek\n",
    "\n",
    "# week of year first booking\n",
    "df2['week_of_year_account_created'] = df2['date_account_created'].dt.weekofyear"
   ]
  },
  {
   "cell_type": "code",
   "execution_count": 126,
   "id": "44626c5c",
   "metadata": {
    "ExecuteTime": {
     "end_time": "2022-02-13T21:39:28.539927Z",
     "start_time": "2022-02-13T21:39:28.507561Z"
    }
   },
   "outputs": [
    {
     "data": {
      "text/html": [
       "<div>\n",
       "<style scoped>\n",
       "    .dataframe tbody tr th:only-of-type {\n",
       "        vertical-align: middle;\n",
       "    }\n",
       "\n",
       "    .dataframe tbody tr th {\n",
       "        vertical-align: top;\n",
       "    }\n",
       "\n",
       "    .dataframe thead th {\n",
       "        text-align: right;\n",
       "    }\n",
       "</style>\n",
       "<table border=\"1\" class=\"dataframe\">\n",
       "  <thead>\n",
       "    <tr style=\"text-align: right;\">\n",
       "      <th></th>\n",
       "      <th>id</th>\n",
       "      <th>date_account_created</th>\n",
       "      <th>timestamp_first_active</th>\n",
       "      <th>date_first_booking</th>\n",
       "      <th>gender</th>\n",
       "      <th>age</th>\n",
       "      <th>signup_method</th>\n",
       "      <th>signup_flow</th>\n",
       "      <th>language</th>\n",
       "      <th>affiliate_channel</th>\n",
       "      <th>...</th>\n",
       "      <th>year_first_booking</th>\n",
       "      <th>month_first_booking</th>\n",
       "      <th>day_first_booking</th>\n",
       "      <th>day_of_week_first_booking</th>\n",
       "      <th>week_of_year_first_booking</th>\n",
       "      <th>year_account_created</th>\n",
       "      <th>month_account_created</th>\n",
       "      <th>day_account_created</th>\n",
       "      <th>day_of_week_account_created</th>\n",
       "      <th>week_of_year_account_created</th>\n",
       "    </tr>\n",
       "  </thead>\n",
       "  <tbody>\n",
       "    <tr>\n",
       "      <th>0</th>\n",
       "      <td>gxn3p5htnn</td>\n",
       "      <td>2010-06-28</td>\n",
       "      <td>2009-03-19 04:32:55</td>\n",
       "      <td>2015-06-29</td>\n",
       "      <td>-unknown-</td>\n",
       "      <td>49</td>\n",
       "      <td>facebook</td>\n",
       "      <td>0</td>\n",
       "      <td>en</td>\n",
       "      <td>direct</td>\n",
       "      <td>...</td>\n",
       "      <td>2015</td>\n",
       "      <td>6</td>\n",
       "      <td>29</td>\n",
       "      <td>0</td>\n",
       "      <td>27</td>\n",
       "      <td>2010</td>\n",
       "      <td>6</td>\n",
       "      <td>28</td>\n",
       "      <td>0</td>\n",
       "      <td>26</td>\n",
       "    </tr>\n",
       "    <tr>\n",
       "      <th>1</th>\n",
       "      <td>820tgsjxq7</td>\n",
       "      <td>2011-05-25</td>\n",
       "      <td>2009-05-23 17:48:09</td>\n",
       "      <td>2015-06-29</td>\n",
       "      <td>MALE</td>\n",
       "      <td>38</td>\n",
       "      <td>facebook</td>\n",
       "      <td>0</td>\n",
       "      <td>en</td>\n",
       "      <td>seo</td>\n",
       "      <td>...</td>\n",
       "      <td>2015</td>\n",
       "      <td>6</td>\n",
       "      <td>29</td>\n",
       "      <td>0</td>\n",
       "      <td>27</td>\n",
       "      <td>2011</td>\n",
       "      <td>5</td>\n",
       "      <td>25</td>\n",
       "      <td>2</td>\n",
       "      <td>21</td>\n",
       "    </tr>\n",
       "    <tr>\n",
       "      <th>2</th>\n",
       "      <td>4ft3gnwmtx</td>\n",
       "      <td>2010-09-28</td>\n",
       "      <td>2009-06-09 23:12:47</td>\n",
       "      <td>2010-08-02</td>\n",
       "      <td>FEMALE</td>\n",
       "      <td>56</td>\n",
       "      <td>basic</td>\n",
       "      <td>3</td>\n",
       "      <td>en</td>\n",
       "      <td>direct</td>\n",
       "      <td>...</td>\n",
       "      <td>2010</td>\n",
       "      <td>8</td>\n",
       "      <td>2</td>\n",
       "      <td>0</td>\n",
       "      <td>31</td>\n",
       "      <td>2010</td>\n",
       "      <td>9</td>\n",
       "      <td>28</td>\n",
       "      <td>1</td>\n",
       "      <td>39</td>\n",
       "    </tr>\n",
       "    <tr>\n",
       "      <th>3</th>\n",
       "      <td>bjjt8pjhuk</td>\n",
       "      <td>2011-12-05</td>\n",
       "      <td>2009-10-31 06:01:29</td>\n",
       "      <td>2012-09-08</td>\n",
       "      <td>FEMALE</td>\n",
       "      <td>42</td>\n",
       "      <td>facebook</td>\n",
       "      <td>0</td>\n",
       "      <td>en</td>\n",
       "      <td>direct</td>\n",
       "      <td>...</td>\n",
       "      <td>2012</td>\n",
       "      <td>9</td>\n",
       "      <td>8</td>\n",
       "      <td>5</td>\n",
       "      <td>36</td>\n",
       "      <td>2011</td>\n",
       "      <td>12</td>\n",
       "      <td>5</td>\n",
       "      <td>0</td>\n",
       "      <td>49</td>\n",
       "    </tr>\n",
       "    <tr>\n",
       "      <th>4</th>\n",
       "      <td>87mebub9p4</td>\n",
       "      <td>2010-09-14</td>\n",
       "      <td>2009-12-08 06:11:05</td>\n",
       "      <td>2010-02-18</td>\n",
       "      <td>-unknown-</td>\n",
       "      <td>41</td>\n",
       "      <td>basic</td>\n",
       "      <td>0</td>\n",
       "      <td>en</td>\n",
       "      <td>direct</td>\n",
       "      <td>...</td>\n",
       "      <td>2010</td>\n",
       "      <td>2</td>\n",
       "      <td>18</td>\n",
       "      <td>3</td>\n",
       "      <td>7</td>\n",
       "      <td>2010</td>\n",
       "      <td>9</td>\n",
       "      <td>14</td>\n",
       "      <td>1</td>\n",
       "      <td>37</td>\n",
       "    </tr>\n",
       "  </tbody>\n",
       "</table>\n",
       "<p>5 rows × 35 columns</p>\n",
       "</div>"
      ],
      "text/plain": [
       "           id date_account_created timestamp_first_active date_first_booking  \\\n",
       "0  gxn3p5htnn           2010-06-28    2009-03-19 04:32:55         2015-06-29   \n",
       "1  820tgsjxq7           2011-05-25    2009-05-23 17:48:09         2015-06-29   \n",
       "2  4ft3gnwmtx           2010-09-28    2009-06-09 23:12:47         2010-08-02   \n",
       "3  bjjt8pjhuk           2011-12-05    2009-10-31 06:01:29         2012-09-08   \n",
       "4  87mebub9p4           2010-09-14    2009-12-08 06:11:05         2010-02-18   \n",
       "\n",
       "      gender  age signup_method  signup_flow language affiliate_channel  ...  \\\n",
       "0  -unknown-   49      facebook            0       en            direct  ...   \n",
       "1       MALE   38      facebook            0       en               seo  ...   \n",
       "2     FEMALE   56         basic            3       en            direct  ...   \n",
       "3     FEMALE   42      facebook            0       en            direct  ...   \n",
       "4  -unknown-   41         basic            0       en            direct  ...   \n",
       "\n",
       "  year_first_booking month_first_booking day_first_booking  \\\n",
       "0               2015                   6                29   \n",
       "1               2015                   6                29   \n",
       "2               2010                   8                 2   \n",
       "3               2012                   9                 8   \n",
       "4               2010                   2                18   \n",
       "\n",
       "  day_of_week_first_booking week_of_year_first_booking year_account_created  \\\n",
       "0                         0                         27                 2010   \n",
       "1                         0                         27                 2011   \n",
       "2                         0                         31                 2010   \n",
       "3                         5                         36                 2011   \n",
       "4                         3                          7                 2010   \n",
       "\n",
       "  month_account_created  day_account_created  day_of_week_account_created  \\\n",
       "0                     6                   28                            0   \n",
       "1                     5                   25                            2   \n",
       "2                     9                   28                            1   \n",
       "3                    12                    5                            0   \n",
       "4                     9                   14                            1   \n",
       "\n",
       "   week_of_year_account_created  \n",
       "0                            26  \n",
       "1                            21  \n",
       "2                            39  \n",
       "3                            49  \n",
       "4                            37  \n",
       "\n",
       "[5 rows x 35 columns]"
      ]
     },
     "execution_count": 126,
     "metadata": {},
     "output_type": "execute_result"
    }
   ],
   "source": [
    "df2.head()"
   ]
  },
  {
   "cell_type": "code",
   "execution_count": 127,
   "id": "6af72902",
   "metadata": {
    "ExecuteTime": {
     "end_time": "2022-02-13T21:39:44.601249Z",
     "start_time": "2022-02-13T21:39:44.587653Z"
    }
   },
   "outputs": [
    {
     "data": {
      "text/plain": [
       "id                                                       object\n",
       "date_account_created                             datetime64[ns]\n",
       "timestamp_first_active                           datetime64[ns]\n",
       "date_first_booking                               datetime64[ns]\n",
       "gender                                                   object\n",
       "age                                                       int64\n",
       "signup_method                                            object\n",
       "signup_flow                                               int64\n",
       "language                                                 object\n",
       "affiliate_channel                                        object\n",
       "affiliate_provider                                       object\n",
       "first_affiliate_tracked                                  object\n",
       "signup_app                                               object\n",
       "first_device_type                                        object\n",
       "first_browser                                            object\n",
       "country_destination                                      object\n",
       "first_active                                     datetime64[ns]\n",
       "days_from_first_active_until_booking                      int64\n",
       "days_from_first_active_until_account_created              int64\n",
       "days_from_account_created_until_first_booking             int64\n",
       "year_first_active                                         int64\n",
       "month_first_active                                        int64\n",
       "day_first_active                                          int64\n",
       "day_of_week_first_active                                  int64\n",
       "week_of_year_first_active                                 int64\n",
       "year_first_booking                                        int64\n",
       "month_first_booking                                       int64\n",
       "day_first_booking                                         int64\n",
       "day_of_week_first_booking                                 int64\n",
       "week_of_year_first_booking                                int64\n",
       "year_account_created                                      int64\n",
       "month_account_created                                     int64\n",
       "day_account_created                                       int64\n",
       "day_of_week_account_created                               int64\n",
       "week_of_year_account_created                              int64\n",
       "dtype: object"
      ]
     },
     "execution_count": 127,
     "metadata": {},
     "output_type": "execute_result"
    }
   ],
   "source": [
    "df2.dtypes"
   ]
  },
  {
   "cell_type": "markdown",
   "id": "0e332f75",
   "metadata": {},
   "source": [
    "# Data Filtering"
   ]
  },
  {
   "cell_type": "code",
   "execution_count": 128,
   "id": "02beab6b",
   "metadata": {
    "ExecuteTime": {
     "end_time": "2022-02-13T21:39:56.587377Z",
     "start_time": "2022-02-13T21:39:56.547112Z"
    }
   },
   "outputs": [],
   "source": [
    "df3 = df2.copy()"
   ]
  },
  {
   "cell_type": "markdown",
   "id": "4efaaea2",
   "metadata": {},
   "source": [
    "## Filtering Rows"
   ]
  },
  {
   "cell_type": "code",
   "execution_count": 129,
   "id": "44d41d07",
   "metadata": {
    "ExecuteTime": {
     "end_time": "2022-02-13T21:41:03.329198Z",
     "start_time": "2022-02-13T21:41:03.282074Z"
    }
   },
   "outputs": [],
   "source": [
    "# Filtering rows:\n",
    "# age - greater than 15 and lower than 120 - There are few people over 120 years old\n",
    "df3 = df3[(df3['age'] > 15) & (df3['age'] < 120 )]\n",
    "\n",
    "# secs_elapsed - there is no possible 0 secs elapsed on website\n",
    "# df3 = df3[df3['secs_elapsed'] > 0]"
   ]
  },
  {
   "cell_type": "markdown",
   "id": "8f9a73f1",
   "metadata": {},
   "source": [
    "## Columns Selection"
   ]
  },
  {
   "cell_type": "markdown",
   "id": "78de6826",
   "metadata": {
    "ExecuteTime": {
     "end_time": "2022-02-12T01:35:25.275922Z",
     "start_time": "2022-02-12T01:35:25.268052Z"
    }
   },
   "source": [
    "# Data Preparation"
   ]
  },
  {
   "cell_type": "code",
   "execution_count": 131,
   "id": "7c2783ac",
   "metadata": {
    "ExecuteTime": {
     "end_time": "2022-02-13T21:41:58.384371Z",
     "start_time": "2022-02-13T21:41:58.363163Z"
    }
   },
   "outputs": [],
   "source": [
    "df4 = df3.copy()"
   ]
  },
  {
   "cell_type": "code",
   "execution_count": 132,
   "id": "d5027306",
   "metadata": {
    "ExecuteTime": {
     "end_time": "2022-02-13T21:41:59.286296Z",
     "start_time": "2022-02-13T21:41:59.043302Z"
    }
   },
   "outputs": [],
   "source": [
    "# dummy variable\n",
    "df4_dummy = pd.get_dummies( df4.drop( ['id', 'country_destination'], axis=1 ) )\n",
    "\n",
    "# join id and country destination\n",
    "df4 = pd.concat( [df4[['id', 'country_destination']], df4_dummy], axis=1 )"
   ]
  },
  {
   "cell_type": "code",
   "execution_count": 133,
   "id": "c51f91c1",
   "metadata": {
    "ExecuteTime": {
     "end_time": "2022-02-13T21:42:05.596305Z",
     "start_time": "2022-02-13T21:42:05.588296Z"
    }
   },
   "outputs": [
    {
     "data": {
      "text/plain": [
       "(206593, 156)"
      ]
     },
     "execution_count": 133,
     "metadata": {},
     "output_type": "execute_result"
    }
   ],
   "source": [
    "df4.shape"
   ]
  },
  {
   "cell_type": "markdown",
   "id": "a91ae59d",
   "metadata": {},
   "source": [
    "# Feature Selection"
   ]
  },
  {
   "cell_type": "code",
   "execution_count": 134,
   "id": "3fc34bd9",
   "metadata": {
    "ExecuteTime": {
     "end_time": "2022-02-13T21:43:42.900866Z",
     "start_time": "2022-02-13T21:43:42.853366Z"
    }
   },
   "outputs": [],
   "source": [
    "cols_drop = ['date_account_created', 'timestamp_first_active', 'date_first_booking', 'first_active'] # original dates\n",
    "df5 = df4.drop( cols_drop, axis=1 )"
   ]
  },
  {
   "cell_type": "code",
   "execution_count": 137,
   "id": "e9fab8ec",
   "metadata": {
    "ExecuteTime": {
     "end_time": "2022-02-13T21:44:36.665786Z",
     "start_time": "2022-02-13T21:44:36.615950Z"
    }
   },
   "outputs": [],
   "source": [
    "X = df5.drop( 'country_destination', axis=1 )\n",
    "y = df5['country_destination'].copy()"
   ]
  },
  {
   "cell_type": "code",
   "execution_count": 138,
   "id": "abaee7ac",
   "metadata": {
    "ExecuteTime": {
     "end_time": "2022-02-13T21:44:39.816297Z",
     "start_time": "2022-02-13T21:44:39.563242Z"
    }
   },
   "outputs": [],
   "source": [
    "x_train, x_test, y_train, y_test = ms.train_test_split( X, y, test_size=0.2, random_state=32 )"
   ]
  },
  {
   "cell_type": "markdown",
   "id": "a32800bb",
   "metadata": {},
   "source": [
    "# Machine Learning Model"
   ]
  },
  {
   "cell_type": "code",
   "execution_count": 139,
   "id": "2c0e3f55",
   "metadata": {
    "ExecuteTime": {
     "end_time": "2022-02-13T21:44:41.833161Z",
     "start_time": "2022-02-13T21:44:41.761681Z"
    }
   },
   "outputs": [],
   "source": [
    "x_train = x_train.drop( 'id', axis=1 )\n",
    "x_test = x_test.drop( 'id', axis=1 )"
   ]
  },
  {
   "cell_type": "markdown",
   "id": "75d01f43",
   "metadata": {},
   "source": [
    "## Baseline Model"
   ]
  },
  {
   "cell_type": "code",
   "execution_count": 140,
   "id": "e0adc4d9",
   "metadata": {
    "ExecuteTime": {
     "end_time": "2022-02-13T21:45:27.244384Z",
     "start_time": "2022-02-13T21:45:27.189742Z"
    }
   },
   "outputs": [
    {
     "data": {
      "text/plain": [
       "41319"
      ]
     },
     "execution_count": 140,
     "metadata": {},
     "output_type": "execute_result"
    }
   ],
   "source": [
    "country_destination_list = df1['country_destination'].drop_duplicates().sort_values().tolist()\n",
    "k_num = y_test.shape[0]\n",
    "country_destination_weights = df1['country_destination'].value_counts( normalize=True ).sort_index().tolist()\n",
    "\n",
    "yhat_random = random.choices( population=country_destination_list, \n",
    "                             weights=country_destination_weights, \n",
    "                             k=k_num)\n",
    "len( yhat_random )"
   ]
  },
  {
   "cell_type": "code",
   "execution_count": 141,
   "id": "ddb4f4f0",
   "metadata": {
    "ExecuteTime": {
     "end_time": "2022-02-13T21:45:36.891056Z",
     "start_time": "2022-02-13T21:45:35.172889Z"
    }
   },
   "outputs": [
    {
     "name": "stdout",
     "output_type": "stream",
     "text": [
      "Accuracy: 0.4277693070984293\n",
      "Balanced Accuracy:1.0\n",
      "Kappa Score: 0.0024089835486456046\n",
      "              precision    recall  f1-score   support\n",
      "\n",
      "          AU       0.00      0.00      0.00       101\n",
      "          CA       0.00      0.00      0.00       265\n",
      "          DE       0.00      0.00      0.00       234\n",
      "          ES       0.01      0.01      0.01       385\n",
      "          FR       0.03      0.03      0.03       971\n",
      "          GB       0.02      0.02      0.02       457\n",
      "          IT       0.01      0.01      0.01       553\n",
      "         NDF       0.58      0.58      0.58     23927\n",
      "          NL       0.00      0.00      0.00       143\n",
      "          PT       0.00      0.00      0.00        54\n",
      "          US       0.30      0.30      0.30     12249\n",
      "       other       0.05      0.05      0.05      1980\n",
      "\n",
      "    accuracy                           0.43     41319\n",
      "   macro avg       0.08      0.08      0.08     41319\n",
      "weighted avg       0.43      0.43      0.43     41319\n",
      "\n"
     ]
    },
    {
     "data": {
      "image/png": "[encoded data removed]",
      "text/plain": [
       "<Figure size 864x864 with 2 Axes>"
      ]
     },
     "metadata": {
      "needs_background": "light"
     },
     "output_type": "display_data"
    }
   ],
   "source": [
    "# Accuracy\n",
    "acc_random = m.accuracy_score( y_test, yhat_random )\n",
    "print('Accuracy: {}'.format( acc_random) )\n",
    "\n",
    "# Balanced Accuracy\n",
    "balanced_acc_random = m.balanced_accuracy_score( yhat_random, yhat_random )\n",
    "print( 'Balanced Accuracy:{}'.format( balanced_acc_random ) )\n",
    "\n",
    "# Kappa Metrics\n",
    "kappa_random = m.cohen_kappa_score( y_test, yhat_random )\n",
    "print( 'Kappa Score: {}'.format( kappa_random ) )\n",
    "\n",
    "# Classification report\n",
    "print( m.classification_report( y_test, yhat_random) )\n",
    "\n",
    "# Confusion Matrix\n",
    "mt.plot_confusion_matrix( y_test, yhat_random, normalize=False, figsize=(12,12) );"
   ]
  },
  {
   "cell_type": "markdown",
   "id": "ce9012f4",
   "metadata": {},
   "source": [
    "## Neural Network - MLP"
   ]
  },
  {
   "cell_type": "code",
   "execution_count": 142,
   "id": "93fe1096",
   "metadata": {
    "ExecuteTime": {
     "end_time": "2022-02-13T21:45:51.974399Z",
     "start_time": "2022-02-13T21:45:51.923697Z"
    }
   },
   "outputs": [],
   "source": [
    "ohe = pp.OneHotEncoder()\n",
    "y_train_nn = ohe.fit_transform( y_train.values.reshape( -1, 1 ) ).toarray()"
   ]
  },
  {
   "cell_type": "code",
   "execution_count": 144,
   "id": "a28454ba",
   "metadata": {
    "ExecuteTime": {
     "end_time": "2022-02-13T22:03:30.028004Z",
     "start_time": "2022-02-13T21:46:33.898498Z"
    },
    "scrolled": true
   },
   "outputs": [
    {
     "name": "stdout",
     "output_type": "stream",
     "text": [
      "Epoch 1/100\n",
      "5165/5165 [==============================] - 11s 2ms/step - loss: 4.5216 - accuracy: 0.7928\n",
      "Epoch 2/100\n",
      "5165/5165 [==============================] - 11s 2ms/step - loss: 1.1696 - accuracy: 0.8232\n",
      "Epoch 3/100\n",
      "5165/5165 [==============================] - 12s 2ms/step - loss: 0.6433 - accuracy: 0.8548\n",
      "Epoch 4/100\n",
      "5165/5165 [==============================] - 11s 2ms/step - loss: 0.5269 - accuracy: 0.8707\n",
      "Epoch 5/100\n",
      "5165/5165 [==============================] - 11s 2ms/step - loss: 0.4999 - accuracy: 0.8730\n",
      "Epoch 6/100\n",
      "5165/5165 [==============================] - 13s 2ms/step - loss: 0.4979 - accuracy: 0.8732\n",
      "Epoch 7/100\n",
      "5165/5165 [==============================] - 12s 2ms/step - loss: 0.4983 - accuracy: 0.8731\n",
      "Epoch 8/100\n",
      "5165/5165 [==============================] - 11s 2ms/step - loss: 0.4969 - accuracy: 0.8732\n",
      "Epoch 9/100\n",
      "5165/5165 [==============================] - 12s 2ms/step - loss: 0.4963 - accuracy: 0.8734\n",
      "Epoch 10/100\n",
      "5165/5165 [==============================] - 8s 2ms/step - loss: 0.4956 - accuracy: 0.8735\n",
      "Epoch 11/100\n",
      "5165/5165 [==============================] - 6s 1ms/step - loss: 0.4954 - accuracy: 0.8734\n",
      "Epoch 12/100\n",
      "5165/5165 [==============================] - 6s 1ms/step - loss: 0.4954 - accuracy: 0.8735\n",
      "Epoch 13/100\n",
      "5165/5165 [==============================] - 7s 1ms/step - loss: 0.4948 - accuracy: 0.8734\n",
      "Epoch 14/100\n",
      "5165/5165 [==============================] - 10s 2ms/step - loss: 0.4944 - accuracy: 0.8735\n",
      "Epoch 15/100\n",
      "5165/5165 [==============================] - 12s 2ms/step - loss: 0.4944 - accuracy: 0.8735\n",
      "Epoch 16/100\n",
      "5165/5165 [==============================] - 12s 2ms/step - loss: 0.4937 - accuracy: 0.8735\n",
      "Epoch 17/100\n",
      "5165/5165 [==============================] - 11s 2ms/step - loss: 0.4948 - accuracy: 0.8735\n",
      "Epoch 18/100\n",
      "5165/5165 [==============================] - 12s 2ms/step - loss: 0.4920 - accuracy: 0.8736\n",
      "Epoch 19/100\n",
      "5165/5165 [==============================] - 12s 2ms/step - loss: 0.4915 - accuracy: 0.8736\n",
      "Epoch 20/100\n",
      "5165/5165 [==============================] - 12s 2ms/step - loss: 0.4918 - accuracy: 0.8736\n",
      "Epoch 21/100\n",
      "5165/5165 [==============================] - 12s 2ms/step - loss: 0.4917 - accuracy: 0.8735\n",
      "Epoch 22/100\n",
      "5165/5165 [==============================] - 15s 3ms/step - loss: 0.4910 - accuracy: 0.8736\n",
      "Epoch 23/100\n",
      "5165/5165 [==============================] - 12s 2ms/step - loss: 0.4911 - accuracy: 0.8736\n",
      "Epoch 24/100\n",
      "5165/5165 [==============================] - 11s 2ms/step - loss: 0.4916 - accuracy: 0.8736\n",
      "Epoch 25/100\n",
      "5165/5165 [==============================] - 11s 2ms/step - loss: 0.4911 - accuracy: 0.8736\n",
      "Epoch 26/100\n",
      "5165/5165 [==============================] - 12s 2ms/step - loss: 0.4913 - accuracy: 0.8736\n",
      "Epoch 27/100\n",
      "5165/5165 [==============================] - 12s 2ms/step - loss: 0.4911 - accuracy: 0.8736\n",
      "Epoch 28/100\n",
      "5165/5165 [==============================] - 12s 2ms/step - loss: 0.4910 - accuracy: 0.8737\n",
      "Epoch 29/100\n",
      "5165/5165 [==============================] - 12s 2ms/step - loss: 0.4908 - accuracy: 0.8737\n",
      "Epoch 30/100\n",
      "5165/5165 [==============================] - 11s 2ms/step - loss: 0.4911 - accuracy: 0.8737\n",
      "Epoch 31/100\n",
      "5165/5165 [==============================] - 13s 2ms/step - loss: 0.4912 - accuracy: 0.8737\n",
      "Epoch 32/100\n",
      "5165/5165 [==============================] - 12s 2ms/step - loss: 0.4911 - accuracy: 0.8736\n",
      "Epoch 33/100\n",
      "5165/5165 [==============================] - 10s 2ms/step - loss: 0.4909 - accuracy: 0.8737\n",
      "Epoch 34/100\n",
      "5165/5165 [==============================] - 10s 2ms/step - loss: 0.4911 - accuracy: 0.8736\n",
      "Epoch 35/100\n",
      "5165/5165 [==============================] - 9s 2ms/step - loss: 0.4911 - accuracy: 0.8737\n",
      "Epoch 36/100\n",
      "5165/5165 [==============================] - 9s 2ms/step - loss: 0.4913 - accuracy: 0.8736\n",
      "Epoch 37/100\n",
      "5165/5165 [==============================] - 9s 2ms/step - loss: 0.4912 - accuracy: 0.8737\n",
      "Epoch 38/100\n",
      "5165/5165 [==============================] - 6s 1ms/step - loss: 0.4907 - accuracy: 0.8737\n",
      "Epoch 39/100\n",
      "5165/5165 [==============================] - 6s 1ms/step - loss: 0.4908 - accuracy: 0.8737\n",
      "Epoch 40/100\n",
      "5165/5165 [==============================] - 6s 1ms/step - loss: 0.4924 - accuracy: 0.8736\n",
      "Epoch 41/100\n",
      "5165/5165 [==============================] - 6s 1ms/step - loss: 0.4909 - accuracy: 0.8737\n",
      "Epoch 42/100\n",
      "5165/5165 [==============================] - 7s 1ms/step - loss: 0.4912 - accuracy: 0.8737\n",
      "Epoch 43/100\n",
      "5165/5165 [==============================] - 10s 2ms/step - loss: 0.4911 - accuracy: 0.8736\n",
      "Epoch 44/100\n",
      "5165/5165 [==============================] - 11s 2ms/step - loss: 0.4912 - accuracy: 0.8737\n",
      "Epoch 45/100\n",
      "5165/5165 [==============================] - 11s 2ms/step - loss: 0.4918 - accuracy: 0.8736\n",
      "Epoch 46/100\n",
      "5165/5165 [==============================] - 11s 2ms/step - loss: 0.4905 - accuracy: 0.8737\n",
      "Epoch 47/100\n",
      "5165/5165 [==============================] - 11s 2ms/step - loss: 0.4908 - accuracy: 0.8737\n",
      "Epoch 48/100\n",
      "5165/5165 [==============================] - 12s 2ms/step - loss: 0.4906 - accuracy: 0.8737\n",
      "Epoch 49/100\n",
      "5165/5165 [==============================] - 14s 3ms/step - loss: 0.4911 - accuracy: 0.8737\n",
      "Epoch 50/100\n",
      "5165/5165 [==============================] - 10s 2ms/step - loss: 0.4909 - accuracy: 0.8737\n",
      "Epoch 51/100\n",
      "5165/5165 [==============================] - 8s 1ms/step - loss: 0.4918 - accuracy: 0.8736\n",
      "Epoch 52/100\n",
      "5165/5165 [==============================] - 7s 1ms/step - loss: 0.4906 - accuracy: 0.8737\n",
      "Epoch 53/100\n",
      "5165/5165 [==============================] - 7s 1ms/step - loss: 0.4927 - accuracy: 0.8735\n",
      "Epoch 54/100\n",
      "5165/5165 [==============================] - 10s 2ms/step - loss: 0.4910 - accuracy: 0.8737\n",
      "Epoch 55/100\n",
      "5165/5165 [==============================] - 8s 1ms/step - loss: 0.4907 - accuracy: 0.8737\n",
      "Epoch 56/100\n",
      "5165/5165 [==============================] - 8s 2ms/step - loss: 0.4912 - accuracy: 0.8737\n",
      "Epoch 57/100\n",
      "5165/5165 [==============================] - 11s 2ms/step - loss: 0.4908 - accuracy: 0.8737\n",
      "Epoch 58/100\n",
      "5165/5165 [==============================] - 13s 3ms/step - loss: 0.4912 - accuracy: 0.8737\n",
      "Epoch 59/100\n",
      "5165/5165 [==============================] - 11s 2ms/step - loss: 0.4910 - accuracy: 0.8737\n",
      "Epoch 60/100\n",
      "5165/5165 [==============================] - 12s 2ms/step - loss: 0.4917 - accuracy: 0.8737\n",
      "Epoch 61/100\n",
      "5165/5165 [==============================] - 13s 2ms/step - loss: 0.4908 - accuracy: 0.8738\n",
      "Epoch 62/100\n",
      "5165/5165 [==============================] - 12s 2ms/step - loss: 0.4909 - accuracy: 0.8737\n",
      "Epoch 63/100\n",
      "5165/5165 [==============================] - 9s 2ms/step - loss: 0.4910 - accuracy: 0.8738\n",
      "Epoch 64/100\n",
      "5165/5165 [==============================] - 13s 2ms/step - loss: 0.4925 - accuracy: 0.8735\n",
      "Epoch 65/100\n",
      "5165/5165 [==============================] - 9s 2ms/step - loss: 0.4910 - accuracy: 0.8737\n",
      "Epoch 66/100\n",
      "5165/5165 [==============================] - 10s 2ms/step - loss: 0.4906 - accuracy: 0.8737\n",
      "Epoch 67/100\n",
      "5165/5165 [==============================] - 15s 3ms/step - loss: 0.4912 - accuracy: 0.8737\n",
      "Epoch 68/100\n",
      "5165/5165 [==============================] - 14s 3ms/step - loss: 0.4913 - accuracy: 0.8736\n",
      "Epoch 69/100\n",
      "5165/5165 [==============================] - 10s 2ms/step - loss: 0.4904 - accuracy: 0.8738\n",
      "Epoch 70/100\n",
      "5165/5165 [==============================] - 9s 2ms/step - loss: 0.4907 - accuracy: 0.8738\n",
      "Epoch 71/100\n",
      "5165/5165 [==============================] - 9s 2ms/step - loss: 0.4907 - accuracy: 0.8737\n",
      "Epoch 72/100\n",
      "5165/5165 [==============================] - 7s 1ms/step - loss: 0.4907 - accuracy: 0.8737\n",
      "Epoch 73/100\n",
      "5165/5165 [==============================] - 7s 1ms/step - loss: 0.4907 - accuracy: 0.8738\n",
      "Epoch 74/100\n",
      "5165/5165 [==============================] - 11s 2ms/step - loss: 0.4908 - accuracy: 0.8737\n",
      "Epoch 75/100\n",
      "5165/5165 [==============================] - 7s 1ms/step - loss: 0.4919 - accuracy: 0.8737\n",
      "Epoch 76/100\n",
      "5165/5165 [==============================] - 9s 2ms/step - loss: 0.4906 - accuracy: 0.8738\n",
      "Epoch 77/100\n",
      "5165/5165 [==============================] - 9s 2ms/step - loss: 0.4906 - accuracy: 0.8737\n",
      "Epoch 78/100\n",
      "5165/5165 [==============================] - 8s 2ms/step - loss: 0.4906 - accuracy: 0.8738\n",
      "Epoch 79/100\n"
     ]
    },
    {
     "name": "stdout",
     "output_type": "stream",
     "text": [
      "5165/5165 [==============================] - 8s 1ms/step - loss: 0.4910 - accuracy: 0.8737\n",
      "Epoch 80/100\n",
      "5165/5165 [==============================] - 6s 1ms/step - loss: 0.4906 - accuracy: 0.8738\n",
      "Epoch 81/100\n",
      "5165/5165 [==============================] - 7s 1ms/step - loss: 0.4919 - accuracy: 0.8736\n",
      "Epoch 82/100\n",
      "5165/5165 [==============================] - 8s 2ms/step - loss: 0.4905 - accuracy: 0.8737\n",
      "Epoch 83/100\n",
      "5165/5165 [==============================] - 7s 1ms/step - loss: 0.4907 - accuracy: 0.8738\n",
      "Epoch 84/100\n",
      "5165/5165 [==============================] - 6s 1ms/step - loss: 0.4908 - accuracy: 0.8737\n",
      "Epoch 85/100\n",
      "5165/5165 [==============================] - 6s 1ms/step - loss: 0.4908 - accuracy: 0.8737\n",
      "Epoch 86/100\n",
      "5165/5165 [==============================] - 12s 2ms/step - loss: 0.4907 - accuracy: 0.8737\n",
      "Epoch 87/100\n",
      "5165/5165 [==============================] - 15s 3ms/step - loss: 0.4910 - accuracy: 0.8737\n",
      "Epoch 88/100\n",
      "5165/5165 [==============================] - 13s 3ms/step - loss: 0.4906 - accuracy: 0.8737\n",
      "Epoch 89/100\n",
      "5165/5165 [==============================] - 12s 2ms/step - loss: 0.4914 - accuracy: 0.8738\n",
      "Epoch 90/100\n",
      "5165/5165 [==============================] - 15s 3ms/step - loss: 0.4907 - accuracy: 0.8737\n",
      "Epoch 91/100\n",
      "5165/5165 [==============================] - 14s 3ms/step - loss: 0.4910 - accuracy: 0.8737\n",
      "Epoch 92/100\n",
      "5165/5165 [==============================] - 12s 2ms/step - loss: 0.4908 - accuracy: 0.8737\n",
      "Epoch 93/100\n",
      "5165/5165 [==============================] - 13s 3ms/step - loss: 0.4911 - accuracy: 0.8737\n",
      "Epoch 94/100\n",
      "5165/5165 [==============================] - 12s 2ms/step - loss: 0.4915 - accuracy: 0.8737\n",
      "Epoch 95/100\n",
      "5165/5165 [==============================] - 7s 1ms/step - loss: 0.4907 - accuracy: 0.8737\n",
      "Epoch 96/100\n",
      "5165/5165 [==============================] - 7s 1ms/step - loss: 0.4906 - accuracy: 0.8738\n",
      "Epoch 97/100\n",
      "5165/5165 [==============================] - 6s 1ms/step - loss: 0.4913 - accuracy: 0.8738\n",
      "Epoch 98/100\n",
      "5165/5165 [==============================] - 7s 1ms/step - loss: 0.4910 - accuracy: 0.8737\n",
      "Epoch 99/100\n",
      "5165/5165 [==============================] - 8s 1ms/step - loss: 0.4909 - accuracy: 0.8737\n",
      "Epoch 100/100\n",
      "5165/5165 [==============================] - 13s 2ms/step - loss: 0.4904 - accuracy: 0.8738\n"
     ]
    },
    {
     "data": {
      "text/plain": [
       "<keras.callbacks.History at 0x7fae8cd0eaf0>"
      ]
     },
     "execution_count": 144,
     "metadata": {},
     "output_type": "execute_result"
    }
   ],
   "source": [
    "# model definition\n",
    "model = ml.Sequential()\n",
    "model.add( l.Dense( 256, input_dim=x_train.shape[1], activation='relu' ) )\n",
    "model.add( l.Dense( 12, activation='softmax') )\n",
    "\n",
    "# model compile\n",
    "model.compile( loss='categorical_crossentropy', optimizer='adam', metrics=['accuracy'] )\n",
    "\n",
    "# train model\n",
    "model.fit( x_train, y_train_nn, epochs=100 )"
   ]
  },
  {
   "cell_type": "markdown",
   "id": "ecd17099",
   "metadata": {},
   "source": [
    "# NN Performance"
   ]
  },
  {
   "cell_type": "code",
   "execution_count": 145,
   "id": "111e052c",
   "metadata": {
    "ExecuteTime": {
     "end_time": "2022-02-13T22:03:32.456350Z",
     "start_time": "2022-02-13T22:03:31.016563Z"
    }
   },
   "outputs": [],
   "source": [
    "# prediction\n",
    "pred_nn = model.predict( x_test )\n",
    "\n",
    "# invert prediction\n",
    "yhat_nn = ohe.inverse_transform( pred_nn )\n",
    "\n",
    "# prediction prepare\n",
    "y_test_nn = y_test.to_numpy()\n",
    "yhat_nn = yhat_nn.reshape( 1, -1 )[0]"
   ]
  },
  {
   "cell_type": "code",
   "execution_count": 146,
   "id": "cf06e0bb",
   "metadata": {
    "ExecuteTime": {
     "end_time": "2022-02-13T22:03:35.990754Z",
     "start_time": "2022-02-13T22:03:33.691105Z"
    }
   },
   "outputs": [
    {
     "name": "stdout",
     "output_type": "stream",
     "text": [
      "Accuracy: 0.8754084077543018\n",
      "Balanced Accuracy:0.16663265028437696\n",
      "Kappa Score: 0.7692081102960318\n"
     ]
    },
    {
     "name": "stderr",
     "output_type": "stream",
     "text": [
      "/home/lucas/.pyenv/versions/3.8.0/envs/airbnbfirstbooking/lib/python3.8/site-packages/sklearn/metrics/_classification.py:1318: UndefinedMetricWarning: Precision and F-score are ill-defined and being set to 0.0 in labels with no predicted samples. Use `zero_division` parameter to control this behavior.\n",
      "  _warn_prf(average, modifier, msg_start, len(result))\n",
      "/home/lucas/.pyenv/versions/3.8.0/envs/airbnbfirstbooking/lib/python3.8/site-packages/sklearn/metrics/_classification.py:1318: UndefinedMetricWarning: Precision and F-score are ill-defined and being set to 0.0 in labels with no predicted samples. Use `zero_division` parameter to control this behavior.\n",
      "  _warn_prf(average, modifier, msg_start, len(result))\n",
      "/home/lucas/.pyenv/versions/3.8.0/envs/airbnbfirstbooking/lib/python3.8/site-packages/sklearn/metrics/_classification.py:1318: UndefinedMetricWarning: Precision and F-score are ill-defined and being set to 0.0 in labels with no predicted samples. Use `zero_division` parameter to control this behavior.\n",
      "  _warn_prf(average, modifier, msg_start, len(result))\n"
     ]
    },
    {
     "name": "stdout",
     "output_type": "stream",
     "text": [
      "              precision    recall  f1-score   support\n",
      "\n",
      "          AU       0.00      0.00      0.00       101\n",
      "          CA       0.00      0.00      0.00       265\n",
      "          DE       0.00      0.00      0.00       234\n",
      "          ES       0.00      0.00      0.00       385\n",
      "          FR       0.00      0.00      0.00       971\n",
      "          GB       0.00      0.00      0.00       457\n",
      "          IT       0.00      0.00      0.00       553\n",
      "         NDF       1.00      1.00      1.00     23927\n",
      "          NL       0.00      0.00      0.00       143\n",
      "          PT       0.00      0.00      0.00        54\n",
      "          US       0.70      1.00      0.83     12249\n",
      "       other       0.00      0.00      0.00      1980\n",
      "\n",
      "    accuracy                           0.88     41319\n",
      "   macro avg       0.14      0.17      0.15     41319\n",
      "weighted avg       0.79      0.88      0.82     41319\n",
      "\n"
     ]
    },
    {
     "data": {
      "image/png": "[encoded data removed]",
      "text/plain": [
       "<Figure size 864x864 with 2 Axes>"
      ]
     },
     "metadata": {
      "needs_background": "light"
     },
     "output_type": "display_data"
    }
   ],
   "source": [
    "# Accuracy\n",
    "acc_nn = m.accuracy_score( y_test_nn, yhat_nn )\n",
    "print('Accuracy: {}'.format( acc_nn) )\n",
    "\n",
    "# Balanced Accuracy\n",
    "balanced_acc_nn = m.balanced_accuracy_score( y_test_nn, yhat_nn )\n",
    "print( 'Balanced Accuracy:{}'.format( balanced_acc_nn ) )\n",
    "\n",
    "# Kappa Metrics\n",
    "kappa_nn = m.cohen_kappa_score( y_test_nn, yhat_nn )\n",
    "print( 'Kappa Score: {}'.format( kappa_nn ) )\n",
    "\n",
    "# Classification report\n",
    "print( m.classification_report( y_test_nn, yhat_nn) )\n",
    "\n",
    "# Confusion Matrix\n",
    "mt.plot_confusion_matrix( y_test_nn, yhat_nn, normalize=False, figsize=(12,12) );"
   ]
  },
  {
   "cell_type": "markdown",
   "id": "65afc9a4",
   "metadata": {},
   "source": [
    "### NN Performance - Cross-validation"
   ]
  },
  {
   "cell_type": "code",
   "execution_count": 28,
   "id": "5fe94e04",
   "metadata": {
    "ExecuteTime": {
     "end_time": "2022-02-13T00:43:23.380765Z",
     "start_time": "2022-02-13T00:31:31.500330Z"
    }
   },
   "outputs": [
    {
     "name": "stdout",
     "output_type": "stream",
     "text": [
      "Fold Number: 1/5\n",
      "Fold Number: 2/5\n",
      "Fold Number: 3/5\n",
      "Fold Number: 4/5\n",
      "Fold Number: 5/5\n"
     ]
    }
   ],
   "source": [
    "# generate k-fold\n",
    "num_folds = 5\n",
    "kfold = ms.StratifiedKFold( n_splits=num_folds, shuffle=True, random_state=32 )\n",
    "\n",
    "balanced_acc_list = []\n",
    "kappa_acc_list = []\n",
    "\n",
    "i = 1\n",
    "for train_ix, val_ix in kfold.split( x_train, y_train ):\n",
    "    print( 'Fold Number: {}/{}'.format( i, num_folds ) )\n",
    "    \n",
    "    # get fold\n",
    "    x_train_fold = x_train.iloc[train_ix]\n",
    "    y_train_fold = y_train.iloc[train_ix]\n",
    "    \n",
    "    x_val_fold = x_train.iloc[val_ix]\n",
    "    y_val_fold = y_train.iloc[val_ix]\n",
    "    \n",
    "    # target hot-encoding\n",
    "    ohe = pp.OneHotEncoder()\n",
    "    y_train_fold_nn = ohe.fit_transform( y_train_fold.values.reshape( -1, 1 ) ).toarray()\n",
    "\n",
    "    # model definition\n",
    "    model = ml.Sequential()\n",
    "    model.add( l.Dense( 256, input_dim=x_train.shape[1], activation='relu' ) )\n",
    "    model.add( l.Dense( 11, activation='softmax') )\n",
    "\n",
    "    # compile model\n",
    "    model.compile( loss='categorical_crossentropy', optimizer='adam', metrics=['accuracy'] )\n",
    "\n",
    "    # training model\n",
    "    model.fit( x_train_fold, y_train_fold_nn, epochs=100, batch_size=32, verbose=0 )\n",
    "\n",
    "    # prediction\n",
    "    pred_nn = model.predict( x_val_fold )\n",
    "    yhat_nn = ohe.inverse_transform( pred_nn )\n",
    "    \n",
    "    # prepare data\n",
    "    y_test_nn = y_val_fold.to_numpy()\n",
    "    yhat_nn = yhat_nn.reshape( 1, -1 )[0]\n",
    "\n",
    "    # metrics\n",
    "    ## Balanced Accuracy \n",
    "    balanced_acc_nn = m.balanced_accuracy_score( y_test_nn, yhat_nn )\n",
    "    balanced_acc_list.append( balanced_acc_nn )\n",
    "    \n",
    "    ## Kappa Metrics\n",
    "    kappa_acc_nn = m.cohen_kappa_score( y_test_nn, yhat_nn )\n",
    "    kappa_acc_list.append( kappa_acc_nn )\n",
    "    \n",
    "    i += 1"
   ]
  },
  {
   "cell_type": "code",
   "execution_count": 37,
   "id": "0c4c7189",
   "metadata": {
    "ExecuteTime": {
     "end_time": "2022-02-13T00:47:56.325251Z",
     "start_time": "2022-02-13T00:47:56.317819Z"
    }
   },
   "outputs": [
    {
     "name": "stdout",
     "output_type": "stream",
     "text": [
      "Avg Balanced Accuracy: 0.09170340864570534 +/- 0.0006935621393682294\n",
      "Avg Kappa: 0.003889496235490353 +/- 0.0019405754097840944\n"
     ]
    }
   ],
   "source": [
    "print( 'Avg Balanced Accuracy: {} +/- {}'.format( np.mean( balanced_acc_list ), np.std( balanced_acc_list ) ) )\n",
    "print( 'Avg Kappa: {} +/- {}'.format( np.mean( kappa_acc_list ), np.std( kappa_acc_list ) ) )"
   ]
  },
  {
   "cell_type": "code",
   "execution_count": null,
   "id": "e89e7814",
   "metadata": {},
   "outputs": [],
   "source": []
  }
 ],
 "metadata": {
  "hide_input": false,
  "kernelspec": {
   "display_name": "Python 3 (ipykernel)",
   "language": "python",
   "name": "python3"
  },
  "language_info": {
   "codemirror_mode": {
    "name": "ipython",
    "version": 3
   },
   "file_extension": ".py",
   "mimetype": "text/x-python",
   "name": "python",
   "nbconvert_exporter": "python",
   "pygments_lexer": "ipython3",
   "version": "3.8.0"
  },
  "toc": {
   "base_numbering": 1,
   "nav_menu": {},
   "number_sections": true,
   "sideBar": true,
   "skip_h1_title": false,
   "title_cell": "Table of Contents",
   "title_sidebar": "Contents",
   "toc_cell": false,
   "toc_position": {},
   "toc_section_display": true,
   "toc_window_display": false
  },
  "varInspector": {
   "cols": {
    "lenName": 16,
    "lenType": 16,
    "lenVar": 40
   },
   "kernels_config": {
    "python": {
     "delete_cmd_postfix": "",
     "delete_cmd_prefix": "del ",
     "library": "var_list.py",
     "varRefreshCmd": "print(var_dic_list())"
    },
    "r": {
     "delete_cmd_postfix": ") ",
     "delete_cmd_prefix": "rm(",
     "library": "var_list.r",
     "varRefreshCmd": "cat(var_dic_list()) "
    }
   },
   "types_to_exclude": [
    "module",
    "function",
    "builtin_function_or_method",
    "instance",
    "_Feature"
   ],
   "window_display": false
  }
 },
 "nbformat": 4,
 "nbformat_minor": 5
}
