{
 "cells": [
  {
   "cell_type": "markdown",
   "id": "73ede84d",
   "metadata": {},
   "source": [
    "# Entender o Problema"
   ]
  },
  {
   "cell_type": "markdown",
   "id": "baa4e99c",
   "metadata": {},
   "source": [
    "-- Objetivo do problema:\n",
    "    -- 1.0. Previsao do primeiro destino que um novo usuário irá escolher\n",
    "    \n",
    "    -- Porque?\n",
    "        -- Qual o tipo de modelo de negocio do Airbnb?\n",
    "            -- Marketplace ( Conectar pessoas que oferecem acomodacao, com pessoas que estao procurando acomodacao)\n",
    "            -- Oferta (pessoas oferecendo acomodacao)\n",
    "                -- Tamanho do portfolio.\n",
    "                -- Diversidade/Densidade de portfolio.\n",
    "                -- Preco medio\n",
    "                \n",
    "            -- Demanda (pessoas procurando acomodacao)\n",
    "                -- Numero de usuarios\n",
    "                -- LTV ( Lifetime Value )\n",
    "                -- CAC ( Client Acquisition Cost )\n",
    "                \n",
    "                \n",
    "                Gross Revenue = ( Fee*Numero clientes ) - CAC\n",
    "        \n",
    "-- Proposta de solucao\n",
    "\n",
    "    --- Modelo de Predicao do primeiro destino de um novo usuario\n",
    "    --- 1.0. Predicoes e salva em tabela do banco de dados\n",
    "    --- 2.0. API\n",
    "            --- Input: usuario e suas caracteristicas\n",
    "            --- Output: usuario e suas caracteristicas com a **predicao do destino**\n",
    "\n",
    "    --- 16 ciclos"
   ]
  },
  {
   "cell_type": "markdown",
   "id": "bf7e1758",
   "metadata": {},
   "source": [
    "# <font color='red'> Ciclo01: End to End </font>"
   ]
  },
  {
   "cell_type": "markdown",
   "id": "ea8e1a1a",
   "metadata": {
    "ExecuteTime": {
     "end_time": "2022-02-12T01:34:39.453646Z",
     "start_time": "2022-02-12T01:34:39.446133Z"
    }
   },
   "source": [
    "# Imports"
   ]
  },
  {
   "cell_type": "code",
   "execution_count": 1,
   "id": "686a9ef1",
   "metadata": {
    "ExecuteTime": {
     "end_time": "2022-02-12T11:42:07.293350Z",
     "start_time": "2022-02-12T11:42:04.281283Z"
    }
   },
   "outputs": [
    {
     "name": "stderr",
     "output_type": "stream",
     "text": [
      "2022-02-12 08:42:06.000488: W tensorflow/stream_executor/platform/default/dso_loader.cc:64] Could not load dynamic library 'libcudart.so.11.0'; dlerror: libcudart.so.11.0: cannot open shared object file: No such file or directory\n",
      "2022-02-12 08:42:06.000518: I tensorflow/stream_executor/cuda/cudart_stub.cc:29] Ignore above cudart dlerror if you do not have a GPU set up on your machine.\n"
     ]
    }
   ],
   "source": [
    "import pandas as pd\n",
    "from sklearn import model_selection as ms\n",
    "from sklearn import preprocessing as pp\n",
    "from sklearn import metrics as m\n",
    "from scikitplot import metrics as mt\n",
    "\n",
    "from keras import models as ml\n",
    "from keras import layers as l"
   ]
  },
  {
   "cell_type": "markdown",
   "id": "af4d25e6",
   "metadata": {},
   "source": [
    "## Helper Functions"
   ]
  },
  {
   "cell_type": "markdown",
   "id": "765995b9",
   "metadata": {},
   "source": [
    "## Loading Data"
   ]
  },
  {
   "cell_type": "code",
   "execution_count": 2,
   "id": "026fb49f",
   "metadata": {
    "ExecuteTime": {
     "end_time": "2022-02-12T11:42:07.715749Z",
     "start_time": "2022-02-12T11:42:07.295168Z"
    }
   },
   "outputs": [
    {
     "data": {
      "text/plain": [
       "(213451, 16)"
      ]
     },
     "execution_count": 2,
     "metadata": {},
     "output_type": "execute_result"
    }
   ],
   "source": [
    "df_raw = pd.read_csv( 'dataset/training_users.csv', low_memory=True )\n",
    "df_raw.shape"
   ]
  },
  {
   "cell_type": "code",
   "execution_count": 3,
   "id": "236bcc1d",
   "metadata": {
    "ExecuteTime": {
     "end_time": "2022-02-12T11:42:07.720291Z",
     "start_time": "2022-02-12T11:42:07.717655Z"
    }
   },
   "outputs": [],
   "source": [
    "# df_sessions = pd.read_csv( 'dataset/sessions.csv', low_memory=True )\n",
    "# df_sessions.shape"
   ]
  },
  {
   "cell_type": "markdown",
   "id": "9fbc2d01",
   "metadata": {
    "ExecuteTime": {
     "end_time": "2022-02-12T01:34:59.521323Z",
     "start_time": "2022-02-12T01:34:59.514130Z"
    }
   },
   "source": [
    "# Data Description"
   ]
  },
  {
   "cell_type": "code",
   "execution_count": 4,
   "id": "ac516af8",
   "metadata": {
    "ExecuteTime": {
     "end_time": "2022-02-12T11:42:07.736247Z",
     "start_time": "2022-02-12T11:42:07.722254Z"
    }
   },
   "outputs": [],
   "source": [
    "df1 = df_raw.copy()"
   ]
  },
  {
   "cell_type": "code",
   "execution_count": 5,
   "id": "6380b4c1",
   "metadata": {
    "ExecuteTime": {
     "end_time": "2022-02-12T11:42:07.741448Z",
     "start_time": "2022-02-12T11:42:07.737782Z"
    }
   },
   "outputs": [
    {
     "name": "stdout",
     "output_type": "stream",
     "text": [
      "Number of rows: 213451\n",
      "Number of columss: 16\n"
     ]
    }
   ],
   "source": [
    "print( 'Number of rows: {}'.format( df1.shape[0] ) )\n",
    "print( 'Number of columss: {}'.format( df1.shape[1] ) )"
   ]
  },
  {
   "cell_type": "markdown",
   "id": "fd6841d0",
   "metadata": {},
   "source": [
    "## Data Type"
   ]
  },
  {
   "cell_type": "code",
   "execution_count": 6,
   "id": "3d6c7c94",
   "metadata": {
    "ExecuteTime": {
     "end_time": "2022-02-12T11:42:07.750178Z",
     "start_time": "2022-02-12T11:42:07.743233Z"
    }
   },
   "outputs": [
    {
     "data": {
      "text/plain": [
       "id                          object\n",
       "date_account_created        object\n",
       "timestamp_first_active       int64\n",
       "date_first_booking          object\n",
       "gender                      object\n",
       "age                        float64\n",
       "signup_method               object\n",
       "signup_flow                  int64\n",
       "language                    object\n",
       "affiliate_channel           object\n",
       "affiliate_provider          object\n",
       "first_affiliate_tracked     object\n",
       "signup_app                  object\n",
       "first_device_type           object\n",
       "first_browser               object\n",
       "country_destination         object\n",
       "dtype: object"
      ]
     },
     "execution_count": 6,
     "metadata": {},
     "output_type": "execute_result"
    }
   ],
   "source": [
    "df1.dtypes"
   ]
  },
  {
   "cell_type": "markdown",
   "id": "5e4ce3ab",
   "metadata": {},
   "source": [
    "## NA check"
   ]
  },
  {
   "cell_type": "code",
   "execution_count": 7,
   "id": "72b2149b",
   "metadata": {
    "ExecuteTime": {
     "end_time": "2022-02-12T11:42:08.047197Z",
     "start_time": "2022-02-12T11:42:07.752348Z"
    }
   },
   "outputs": [
    {
     "data": {
      "text/plain": [
       "id                              0\n",
       "date_account_created            0\n",
       "timestamp_first_active          0\n",
       "date_first_booking         124543\n",
       "gender                          0\n",
       "age                         87990\n",
       "signup_method                   0\n",
       "signup_flow                     0\n",
       "language                        0\n",
       "affiliate_channel               0\n",
       "affiliate_provider              0\n",
       "first_affiliate_tracked      6065\n",
       "signup_app                      0\n",
       "first_device_type               0\n",
       "first_browser                   0\n",
       "country_destination             0\n",
       "dtype: int64"
      ]
     },
     "execution_count": 7,
     "metadata": {},
     "output_type": "execute_result"
    }
   ],
   "source": [
    "df1.isna().sum()"
   ]
  },
  {
   "cell_type": "code",
   "execution_count": 8,
   "id": "346ae16e",
   "metadata": {
    "ExecuteTime": {
     "end_time": "2022-02-12T11:42:08.417924Z",
     "start_time": "2022-02-12T11:42:08.048996Z"
    }
   },
   "outputs": [
    {
     "data": {
      "text/plain": [
       "(68171, 16)"
      ]
     },
     "execution_count": 8,
     "metadata": {},
     "output_type": "execute_result"
    }
   ],
   "source": [
    "# remove missing value completly\n",
    "df1 = df1.dropna()\n",
    "df1.shape"
   ]
  },
  {
   "cell_type": "markdown",
   "id": "e9d5ad69",
   "metadata": {},
   "source": [
    "## Change Data Type"
   ]
  },
  {
   "cell_type": "code",
   "execution_count": 9,
   "id": "ab3a217d",
   "metadata": {
    "ExecuteTime": {
     "end_time": "2022-02-12T11:42:08.428382Z",
     "start_time": "2022-02-12T11:42:08.421670Z"
    }
   },
   "outputs": [
    {
     "data": {
      "text/plain": [
       "id                          object\n",
       "date_account_created        object\n",
       "timestamp_first_active       int64\n",
       "date_first_booking          object\n",
       "gender                      object\n",
       "age                        float64\n",
       "signup_method               object\n",
       "signup_flow                  int64\n",
       "language                    object\n",
       "affiliate_channel           object\n",
       "affiliate_provider          object\n",
       "first_affiliate_tracked     object\n",
       "signup_app                  object\n",
       "first_device_type           object\n",
       "first_browser               object\n",
       "country_destination         object\n",
       "dtype: object"
      ]
     },
     "execution_count": 9,
     "metadata": {},
     "output_type": "execute_result"
    }
   ],
   "source": [
    "df1.dtypes"
   ]
  },
  {
   "cell_type": "code",
   "execution_count": 10,
   "id": "ed6950f7",
   "metadata": {
    "ExecuteTime": {
     "end_time": "2022-02-12T11:42:08.727835Z",
     "start_time": "2022-02-12T11:42:08.431281Z"
    }
   },
   "outputs": [],
   "source": [
    "# date_account_created\n",
    "df1['date_account_created'] = pd.to_datetime( df1['date_account_created'] )\n",
    "\n",
    "# timestamp_first_active\n",
    "df1['timestamp_first_active'] = pd.to_datetime( df1['timestamp_first_active'], format='%Y%m%d%H%M%S' )\n",
    "\n",
    "# date_first_booking\n",
    "df1['date_first_booking'] = pd.to_datetime( df1['date_first_booking'])\n",
    "\n",
    "# age\n",
    "df1['age'] = df1['age'].astype( int )"
   ]
  },
  {
   "cell_type": "code",
   "execution_count": 11,
   "id": "fe113d9d",
   "metadata": {
    "ExecuteTime": {
     "end_time": "2022-02-12T11:42:08.734300Z",
     "start_time": "2022-02-12T11:42:08.729523Z"
    }
   },
   "outputs": [
    {
     "data": {
      "text/plain": [
       "id                                 object\n",
       "date_account_created       datetime64[ns]\n",
       "timestamp_first_active     datetime64[ns]\n",
       "date_first_booking         datetime64[ns]\n",
       "gender                             object\n",
       "age                                 int64\n",
       "signup_method                      object\n",
       "signup_flow                         int64\n",
       "language                           object\n",
       "affiliate_channel                  object\n",
       "affiliate_provider                 object\n",
       "first_affiliate_tracked            object\n",
       "signup_app                         object\n",
       "first_device_type                  object\n",
       "first_browser                      object\n",
       "country_destination                object\n",
       "dtype: object"
      ]
     },
     "execution_count": 11,
     "metadata": {},
     "output_type": "execute_result"
    }
   ],
   "source": [
    "df1.dtypes"
   ]
  },
  {
   "cell_type": "markdown",
   "id": "9fb04b14",
   "metadata": {
    "ExecuteTime": {
     "end_time": "2022-02-12T01:48:12.784079Z",
     "start_time": "2022-02-12T01:48:12.778126Z"
    }
   },
   "source": [
    "## Check Balanced Data"
   ]
  },
  {
   "cell_type": "code",
   "execution_count": 12,
   "id": "cf999e45",
   "metadata": {
    "ExecuteTime": {
     "end_time": "2022-02-12T11:42:08.752824Z",
     "start_time": "2022-02-12T11:42:08.737105Z"
    }
   },
   "outputs": [
    {
     "data": {
      "text/plain": [
       "US       0.708864\n",
       "other    0.110854\n",
       "FR       0.054085\n",
       "IT       0.029763\n",
       "GB       0.025935\n",
       "ES       0.024864\n",
       "CA       0.015696\n",
       "DE       0.012454\n",
       "NL       0.008801\n",
       "AU       0.006366\n",
       "PT       0.002318\n",
       "Name: country_destination, dtype: float64"
      ]
     },
     "execution_count": 12,
     "metadata": {},
     "output_type": "execute_result"
    }
   ],
   "source": [
    "df1['country_destination'].value_counts( normalize=True )"
   ]
  },
  {
   "cell_type": "markdown",
   "id": "0e332f75",
   "metadata": {},
   "source": [
    "# Data Filtering"
   ]
  },
  {
   "cell_type": "code",
   "execution_count": 13,
   "id": "02beab6b",
   "metadata": {
    "ExecuteTime": {
     "end_time": "2022-02-12T11:42:08.765435Z",
     "start_time": "2022-02-12T11:42:08.755784Z"
    }
   },
   "outputs": [],
   "source": [
    "df2 = df1.copy()"
   ]
  },
  {
   "cell_type": "markdown",
   "id": "4efaaea2",
   "metadata": {},
   "source": [
    "## Filtering Rows"
   ]
  },
  {
   "cell_type": "markdown",
   "id": "8f9a73f1",
   "metadata": {},
   "source": [
    "## Columns Selection"
   ]
  },
  {
   "cell_type": "markdown",
   "id": "78de6826",
   "metadata": {
    "ExecuteTime": {
     "end_time": "2022-02-12T01:35:25.275922Z",
     "start_time": "2022-02-12T01:35:25.268052Z"
    }
   },
   "source": [
    "# Data Preparation"
   ]
  },
  {
   "cell_type": "code",
   "execution_count": 14,
   "id": "7c2783ac",
   "metadata": {
    "ExecuteTime": {
     "end_time": "2022-02-12T11:42:08.778796Z",
     "start_time": "2022-02-12T11:42:08.768185Z"
    }
   },
   "outputs": [],
   "source": [
    "df3 = df2.copy()"
   ]
  },
  {
   "cell_type": "code",
   "execution_count": 15,
   "id": "d5027306",
   "metadata": {
    "ExecuteTime": {
     "end_time": "2022-02-12T11:42:08.910973Z",
     "start_time": "2022-02-12T11:42:08.781572Z"
    }
   },
   "outputs": [],
   "source": [
    "# dummy variable\n",
    "df3_dummy = pd.get_dummies( df3.drop( ['id', 'country_destination'], axis=1 ) )\n",
    "\n",
    "# join id and country destination\n",
    "df3 = pd.concat( [df3[['id', 'country_destination']], df3_dummy], axis=1 )"
   ]
  },
  {
   "cell_type": "markdown",
   "id": "a91ae59d",
   "metadata": {},
   "source": [
    "# Feature Selection"
   ]
  },
  {
   "cell_type": "code",
   "execution_count": 16,
   "id": "3fc34bd9",
   "metadata": {
    "ExecuteTime": {
     "end_time": "2022-02-12T11:42:08.943287Z",
     "start_time": "2022-02-12T11:42:08.913199Z"
    }
   },
   "outputs": [],
   "source": [
    "cols_drop = ['date_account_created', 'timestamp_first_active', 'date_first_booking'] # original dates\n",
    "df4 = df3.drop( cols_drop, axis=1 )"
   ]
  },
  {
   "cell_type": "markdown",
   "id": "a32800bb",
   "metadata": {},
   "source": [
    "# Machine Learning Model - Neural Network MLP"
   ]
  },
  {
   "cell_type": "code",
   "execution_count": 17,
   "id": "e9fab8ec",
   "metadata": {
    "ExecuteTime": {
     "end_time": "2022-02-12T11:42:08.969789Z",
     "start_time": "2022-02-12T11:42:08.946635Z"
    }
   },
   "outputs": [],
   "source": [
    "X = df4.drop( 'country_destination', axis=1 )\n",
    "y = df4['country_destination'].copy()"
   ]
  },
  {
   "cell_type": "code",
   "execution_count": 18,
   "id": "abaee7ac",
   "metadata": {
    "ExecuteTime": {
     "end_time": "2022-02-12T11:42:09.064081Z",
     "start_time": "2022-02-12T11:42:08.974495Z"
    }
   },
   "outputs": [],
   "source": [
    "x_train, x_test, y_train, y_test = ms.train_test_split( X, y, test_size=0.2, random_state=32 )"
   ]
  },
  {
   "cell_type": "code",
   "execution_count": 19,
   "id": "2c0e3f55",
   "metadata": {
    "ExecuteTime": {
     "end_time": "2022-02-12T11:42:09.084386Z",
     "start_time": "2022-02-12T11:42:09.065484Z"
    }
   },
   "outputs": [],
   "source": [
    "x_train = x_train.drop( 'id', axis=1 )\n",
    "x_test = x_test.drop( 'id', axis=1 )"
   ]
  },
  {
   "cell_type": "code",
   "execution_count": 20,
   "id": "93fe1096",
   "metadata": {
    "ExecuteTime": {
     "end_time": "2022-02-12T11:42:09.115450Z",
     "start_time": "2022-02-12T11:42:09.088256Z"
    }
   },
   "outputs": [],
   "source": [
    "ohe = pp.OneHotEncoder()\n",
    "y_train_nn = ohe.fit_transform( y_train.values.reshape( -1, 1 ) ).toarray()"
   ]
  },
  {
   "cell_type": "code",
   "execution_count": 21,
   "id": "a28454ba",
   "metadata": {
    "ExecuteTime": {
     "end_time": "2022-02-12T11:44:48.305719Z",
     "start_time": "2022-02-12T11:42:09.117278Z"
    },
    "scrolled": true
   },
   "outputs": [
    {
     "name": "stderr",
     "output_type": "stream",
     "text": [
      "2022-02-12 08:42:09.130135: W tensorflow/stream_executor/platform/default/dso_loader.cc:64] Could not load dynamic library 'libcuda.so.1'; dlerror: libcuda.so.1: cannot open shared object file: No such file or directory\n",
      "2022-02-12 08:42:09.130164: W tensorflow/stream_executor/cuda/cuda_driver.cc:269] failed call to cuInit: UNKNOWN ERROR (303)\n",
      "2022-02-12 08:42:09.130188: I tensorflow/stream_executor/cuda/cuda_diagnostics.cc:156] kernel driver does not appear to be running on this host (Lucas): /proc/driver/nvidia/version does not exist\n",
      "2022-02-12 08:42:09.130444: I tensorflow/core/platform/cpu_feature_guard.cc:151] This TensorFlow binary is optimized with oneAPI Deep Neural Network Library (oneDNN) to use the following CPU instructions in performance-critical operations:  AVX2 FMA\n",
      "To enable them in other operations, rebuild TensorFlow with the appropriate compiler flags.\n"
     ]
    },
    {
     "name": "stdout",
     "output_type": "stream",
     "text": [
      "Epoch 1/100\n"
     ]
    },
    {
     "name": "stderr",
     "output_type": "stream",
     "text": [
      "2022-02-12 08:42:09.354475: W tensorflow/core/framework/cpu_allocator_impl.cc:82] Allocation of 48864256 exceeds 10% of free system memory.\n"
     ]
    },
    {
     "name": "stdout",
     "output_type": "stream",
     "text": [
      "1705/1705 [==============================] - 3s 2ms/step - loss: 1.3953 - accuracy: 0.7004\n",
      "Epoch 2/100\n",
      "1705/1705 [==============================] - 3s 2ms/step - loss: 1.2676 - accuracy: 0.7080\n",
      "Epoch 3/100\n",
      "1705/1705 [==============================] - 3s 2ms/step - loss: 1.2704 - accuracy: 0.7075\n",
      "Epoch 4/100\n",
      "1705/1705 [==============================] - 3s 1ms/step - loss: 1.2356 - accuracy: 0.7083\n",
      "Epoch 5/100\n",
      "1705/1705 [==============================] - 3s 2ms/step - loss: 1.2106 - accuracy: 0.7084\n",
      "Epoch 6/100\n",
      "1705/1705 [==============================] - 2s 1ms/step - loss: 1.1961 - accuracy: 0.7083\n",
      "Epoch 7/100\n",
      "1705/1705 [==============================] - 2s 963us/step - loss: 1.1779 - accuracy: 0.7086\n",
      "Epoch 8/100\n",
      "1705/1705 [==============================] - 2s 1ms/step - loss: 1.1652 - accuracy: 0.7086\n",
      "Epoch 9/100\n",
      "1705/1705 [==============================] - 2s 994us/step - loss: 1.1547 - accuracy: 0.7086\n",
      "Epoch 10/100\n",
      "1705/1705 [==============================] - 2s 1ms/step - loss: 1.1472 - accuracy: 0.7087\n",
      "Epoch 11/100\n",
      "1705/1705 [==============================] - 2s 911us/step - loss: 1.1413 - accuracy: 0.7088\n",
      "Epoch 12/100\n",
      "1705/1705 [==============================] - 2s 899us/step - loss: 1.1349 - accuracy: 0.7092\n",
      "Epoch 13/100\n",
      "1705/1705 [==============================] - 2s 901us/step - loss: 1.1311 - accuracy: 0.7096\n",
      "Epoch 14/100\n",
      "1705/1705 [==============================] - 2s 974us/step - loss: 1.1306 - accuracy: 0.7095\n",
      "Epoch 15/100\n",
      "1705/1705 [==============================] - 2s 904us/step - loss: 1.1297 - accuracy: 0.7095\n",
      "Epoch 16/100\n",
      "1705/1705 [==============================] - 2s 887us/step - loss: 1.1283 - accuracy: 0.7096\n",
      "Epoch 17/100\n",
      "1705/1705 [==============================] - 2s 890us/step - loss: 1.1278 - accuracy: 0.7096\n",
      "Epoch 18/100\n",
      "1705/1705 [==============================] - 2s 890us/step - loss: 1.1276 - accuracy: 0.7095\n",
      "Epoch 19/100\n",
      "1705/1705 [==============================] - 2s 906us/step - loss: 1.1263 - accuracy: 0.7096\n",
      "Epoch 20/100\n",
      "1705/1705 [==============================] - 2s 897us/step - loss: 1.1254 - accuracy: 0.7096\n",
      "Epoch 21/100\n",
      "1705/1705 [==============================] - 2s 905us/step - loss: 1.1253 - accuracy: 0.7096\n",
      "Epoch 22/100\n",
      "1705/1705 [==============================] - 2s 891us/step - loss: 1.1241 - accuracy: 0.7097\n",
      "Epoch 23/100\n",
      "1705/1705 [==============================] - 2s 893us/step - loss: 1.1230 - accuracy: 0.7096\n",
      "Epoch 24/100\n",
      "1705/1705 [==============================] - 2s 899us/step - loss: 1.1235 - accuracy: 0.7096\n",
      "Epoch 25/100\n",
      "1705/1705 [==============================] - 2s 885us/step - loss: 1.1218 - accuracy: 0.7098\n",
      "Epoch 26/100\n",
      "1705/1705 [==============================] - 2s 896us/step - loss: 1.1217 - accuracy: 0.7097\n",
      "Epoch 27/100\n",
      "1705/1705 [==============================] - 2s 908us/step - loss: 1.1214 - accuracy: 0.7097\n",
      "Epoch 28/100\n",
      "1705/1705 [==============================] - 2s 892us/step - loss: 1.1205 - accuracy: 0.7098\n",
      "Epoch 29/100\n",
      "1705/1705 [==============================] - 2s 896us/step - loss: 1.1200 - accuracy: 0.7098\n",
      "Epoch 30/100\n",
      "1705/1705 [==============================] - 2s 898us/step - loss: 1.1197 - accuracy: 0.7099\n",
      "Epoch 31/100\n",
      "1705/1705 [==============================] - 2s 887us/step - loss: 1.1190 - accuracy: 0.7097\n",
      "Epoch 32/100\n",
      "1705/1705 [==============================] - 2s 886us/step - loss: 1.1182 - accuracy: 0.7098\n",
      "Epoch 33/100\n",
      "1705/1705 [==============================] - 2s 949us/step - loss: 1.1177 - accuracy: 0.7099\n",
      "Epoch 34/100\n",
      "1705/1705 [==============================] - 2s 924us/step - loss: 1.1173 - accuracy: 0.7098\n",
      "Epoch 35/100\n",
      "1705/1705 [==============================] - 2s 911us/step - loss: 1.1180 - accuracy: 0.7099\n",
      "Epoch 36/100\n",
      "1705/1705 [==============================] - 2s 901us/step - loss: 1.1166 - accuracy: 0.7098\n",
      "Epoch 37/100\n",
      "1705/1705 [==============================] - 2s 884us/step - loss: 1.1186 - accuracy: 0.7099\n",
      "Epoch 38/100\n",
      "1705/1705 [==============================] - 2s 892us/step - loss: 1.1160 - accuracy: 0.7099\n",
      "Epoch 39/100\n",
      "1705/1705 [==============================] - 2s 891us/step - loss: 1.1152 - accuracy: 0.7101\n",
      "Epoch 40/100\n",
      "1705/1705 [==============================] - 2s 895us/step - loss: 1.1159 - accuracy: 0.7099\n",
      "Epoch 41/100\n",
      "1705/1705 [==============================] - 2s 909us/step - loss: 1.1155 - accuracy: 0.7099\n",
      "Epoch 42/100\n",
      "1705/1705 [==============================] - 2s 890us/step - loss: 1.1139 - accuracy: 0.7100\n",
      "Epoch 43/100\n",
      "1705/1705 [==============================] - 2s 903us/step - loss: 1.1141 - accuracy: 0.7102\n",
      "Epoch 44/100\n",
      "1705/1705 [==============================] - 2s 891us/step - loss: 1.1134 - accuracy: 0.7101\n",
      "Epoch 45/100\n",
      "1705/1705 [==============================] - 2s 899us/step - loss: 1.1124 - accuracy: 0.7102\n",
      "Epoch 46/100\n",
      "1705/1705 [==============================] - 2s 894us/step - loss: 1.1135 - accuracy: 0.7101\n",
      "Epoch 47/100\n",
      "1705/1705 [==============================] - 2s 891us/step - loss: 1.1136 - accuracy: 0.7101\n",
      "Epoch 48/100\n",
      "1705/1705 [==============================] - 2s 883us/step - loss: 1.1121 - accuracy: 0.7101\n",
      "Epoch 49/100\n",
      "1705/1705 [==============================] - 2s 888us/step - loss: 1.1124 - accuracy: 0.7103\n",
      "Epoch 50/100\n",
      "1705/1705 [==============================] - 2s 896us/step - loss: 1.1115 - accuracy: 0.7102\n",
      "Epoch 51/100\n",
      "1705/1705 [==============================] - 2s 907us/step - loss: 1.1108 - accuracy: 0.7103\n",
      "Epoch 52/100\n",
      "1705/1705 [==============================] - 2s 917us/step - loss: 1.1105 - accuracy: 0.7103\n",
      "Epoch 53/100\n",
      "1705/1705 [==============================] - 2s 1ms/step - loss: 1.1099 - accuracy: 0.7105\n",
      "Epoch 54/100\n",
      "1705/1705 [==============================] - 2s 920us/step - loss: 1.1097 - accuracy: 0.7104\n",
      "Epoch 55/100\n",
      "1705/1705 [==============================] - 2s 913us/step - loss: 1.1100 - accuracy: 0.7102\n",
      "Epoch 56/100\n",
      "1705/1705 [==============================] - 2s 916us/step - loss: 1.1085 - accuracy: 0.7102\n",
      "Epoch 57/100\n",
      "1705/1705 [==============================] - 2s 919us/step - loss: 1.1086 - accuracy: 0.7106\n",
      "Epoch 58/100\n",
      "1705/1705 [==============================] - 2s 922us/step - loss: 1.1080 - accuracy: 0.7106\n",
      "Epoch 59/100\n",
      "1705/1705 [==============================] - 2s 924us/step - loss: 1.1078 - accuracy: 0.7105\n",
      "Epoch 60/100\n",
      "1705/1705 [==============================] - 2s 914us/step - loss: 1.1085 - accuracy: 0.7108\n",
      "Epoch 61/100\n",
      "1705/1705 [==============================] - 1s 879us/step - loss: 1.1079 - accuracy: 0.7107\n",
      "Epoch 62/100\n",
      "1705/1705 [==============================] - 1s 855us/step - loss: 1.1067 - accuracy: 0.7108\n",
      "Epoch 63/100\n",
      "1705/1705 [==============================] - 1s 856us/step - loss: 1.1076 - accuracy: 0.7107\n",
      "Epoch 64/100\n",
      "1705/1705 [==============================] - 1s 861us/step - loss: 1.1065 - accuracy: 0.7106\n",
      "Epoch 65/100\n",
      "1705/1705 [==============================] - 1s 862us/step - loss: 1.1063 - accuracy: 0.7107\n",
      "Epoch 66/100\n",
      "1705/1705 [==============================] - 1s 851us/step - loss: 1.1052 - accuracy: 0.7109\n",
      "Epoch 67/100\n",
      "1705/1705 [==============================] - 1s 860us/step - loss: 1.1052 - accuracy: 0.7110\n",
      "Epoch 68/100\n",
      "1705/1705 [==============================] - 1s 856us/step - loss: 1.1051 - accuracy: 0.7108\n",
      "Epoch 69/100\n",
      "1705/1705 [==============================] - 1s 865us/step - loss: 1.1048 - accuracy: 0.7109\n",
      "Epoch 70/100\n",
      "1705/1705 [==============================] - 1s 855us/step - loss: 1.1038 - accuracy: 0.7111\n",
      "Epoch 71/100\n",
      "1705/1705 [==============================] - 2s 887us/step - loss: 1.1047 - accuracy: 0.7109\n",
      "Epoch 72/100\n",
      "1705/1705 [==============================] - 2s 883us/step - loss: 1.1048 - accuracy: 0.7111\n",
      "Epoch 73/100\n",
      "1705/1705 [==============================] - 2s 945us/step - loss: 1.1039 - accuracy: 0.7112\n",
      "Epoch 74/100\n",
      "1705/1705 [==============================] - 1s 856us/step - loss: 1.1034 - accuracy: 0.7112\n",
      "Epoch 75/100\n",
      "1705/1705 [==============================] - 1s 858us/step - loss: 1.1033 - accuracy: 0.7111\n",
      "Epoch 76/100\n",
      "1705/1705 [==============================] - 1s 860us/step - loss: 1.1029 - accuracy: 0.7110\n",
      "Epoch 77/100\n",
      "1705/1705 [==============================] - 1s 856us/step - loss: 1.1028 - accuracy: 0.7113\n",
      "Epoch 78/100\n"
     ]
    },
    {
     "name": "stdout",
     "output_type": "stream",
     "text": [
      "1705/1705 [==============================] - 1s 851us/step - loss: 1.1033 - accuracy: 0.7111\n",
      "Epoch 79/100\n",
      "1705/1705 [==============================] - 1s 850us/step - loss: 1.1028 - accuracy: 0.7113\n",
      "Epoch 80/100\n",
      "1705/1705 [==============================] - 1s 854us/step - loss: 1.1025 - accuracy: 0.7111\n",
      "Epoch 81/100\n",
      "1705/1705 [==============================] - 1s 848us/step - loss: 1.1022 - accuracy: 0.7114\n",
      "Epoch 82/100\n",
      "1705/1705 [==============================] - 1s 855us/step - loss: 1.1022 - accuracy: 0.7113\n",
      "Epoch 83/100\n",
      "1705/1705 [==============================] - 1s 844us/step - loss: 1.1018 - accuracy: 0.7112\n",
      "Epoch 84/100\n",
      "1705/1705 [==============================] - 1s 858us/step - loss: 1.1019 - accuracy: 0.7111\n",
      "Epoch 85/100\n",
      "1705/1705 [==============================] - 1s 852us/step - loss: 1.1015 - accuracy: 0.7113\n",
      "Epoch 86/100\n",
      "1705/1705 [==============================] - 1s 850us/step - loss: 1.1015 - accuracy: 0.7113\n",
      "Epoch 87/100\n",
      "1705/1705 [==============================] - 1s 855us/step - loss: 1.1014 - accuracy: 0.7115\n",
      "Epoch 88/100\n",
      "1705/1705 [==============================] - 2s 987us/step - loss: 1.1009 - accuracy: 0.7117\n",
      "Epoch 89/100\n",
      "1705/1705 [==============================] - 2s 915us/step - loss: 1.1008 - accuracy: 0.7116\n",
      "Epoch 90/100\n",
      "1705/1705 [==============================] - 1s 858us/step - loss: 1.1006 - accuracy: 0.7115\n",
      "Epoch 91/100\n",
      "1705/1705 [==============================] - 1s 852us/step - loss: 1.1001 - accuracy: 0.7113\n",
      "Epoch 92/100\n",
      "1705/1705 [==============================] - 1s 854us/step - loss: 1.0994 - accuracy: 0.7118\n",
      "Epoch 93/100\n",
      "1705/1705 [==============================] - 2s 930us/step - loss: 1.0995 - accuracy: 0.7116\n",
      "Epoch 94/100\n",
      "1705/1705 [==============================] - 1s 855us/step - loss: 1.1000 - accuracy: 0.7116\n",
      "Epoch 95/100\n",
      "1705/1705 [==============================] - 1s 857us/step - loss: 1.0993 - accuracy: 0.7115\n",
      "Epoch 96/100\n",
      "1705/1705 [==============================] - 2s 880us/step - loss: 1.0994 - accuracy: 0.7117\n",
      "Epoch 97/100\n",
      "1705/1705 [==============================] - 1s 849us/step - loss: 1.0993 - accuracy: 0.7117\n",
      "Epoch 98/100\n",
      "1705/1705 [==============================] - 1s 849us/step - loss: 1.0989 - accuracy: 0.7118\n",
      "Epoch 99/100\n",
      "1705/1705 [==============================] - 1s 853us/step - loss: 1.0979 - accuracy: 0.7119\n",
      "Epoch 100/100\n",
      "1705/1705 [==============================] - 1s 856us/step - loss: 1.0991 - accuracy: 0.7114\n"
     ]
    },
    {
     "data": {
      "text/plain": [
       "<keras.callbacks.History at 0x7f9772a66cd0>"
      ]
     },
     "execution_count": 21,
     "metadata": {},
     "output_type": "execute_result"
    }
   ],
   "source": [
    "# model definition\n",
    "model = ml.Sequential()\n",
    "model.add( l.Dense( 128, input_dim=x_train.shape[1], activation='relu' ) )\n",
    "model.add( l.Dense( 11, activation='softmax') )\n",
    "\n",
    "# model compile\n",
    "model.compile( loss='categorical_crossentropy', optimizer='adam', metrics=['accuracy'] )\n",
    "\n",
    "# train model\n",
    "model.fit( x_train, y_train_nn, epochs=100 )"
   ]
  },
  {
   "cell_type": "markdown",
   "id": "ecd17099",
   "metadata": {},
   "source": [
    "# NN Performance"
   ]
  },
  {
   "cell_type": "code",
   "execution_count": 22,
   "id": "111e052c",
   "metadata": {
    "ExecuteTime": {
     "end_time": "2022-02-12T11:44:48.654696Z",
     "start_time": "2022-02-12T11:44:48.307053Z"
    }
   },
   "outputs": [],
   "source": [
    "# prediction\n",
    "pred_nn = model.predict( x_test )\n",
    "\n",
    "# invert prediction\n",
    "yhat_nn = ohe.inverse_transform( pred_nn )\n",
    "\n",
    "# prediction prepare\n",
    "y_test_nn = y_test.to_numpy()\n",
    "yhat_nn = yhat_nn.reshape( 1, -1 )[0]"
   ]
  },
  {
   "cell_type": "code",
   "execution_count": 30,
   "id": "cf06e0bb",
   "metadata": {
    "ExecuteTime": {
     "end_time": "2022-02-12T12:01:39.369071Z",
     "start_time": "2022-02-12T12:01:38.326944Z"
    }
   },
   "outputs": [
    {
     "name": "stdout",
     "output_type": "stream",
     "text": [
      "Accuracy: 0.7036303630363037\n",
      "Balanced Accuracy:0.09084347493837532\n",
      "Kappa Score: -0.0005610503743371797\n"
     ]
    },
    {
     "name": "stderr",
     "output_type": "stream",
     "text": [
      "/home/lucas/.pyenv/versions/3.8.0/envs/airbnbfirstbooking/lib/python3.8/site-packages/sklearn/metrics/_classification.py:1318: UndefinedMetricWarning: Precision and F-score are ill-defined and being set to 0.0 in labels with no predicted samples. Use `zero_division` parameter to control this behavior.\n",
      "  _warn_prf(average, modifier, msg_start, len(result))\n",
      "/home/lucas/.pyenv/versions/3.8.0/envs/airbnbfirstbooking/lib/python3.8/site-packages/sklearn/metrics/_classification.py:1318: UndefinedMetricWarning: Precision and F-score are ill-defined and being set to 0.0 in labels with no predicted samples. Use `zero_division` parameter to control this behavior.\n",
      "  _warn_prf(average, modifier, msg_start, len(result))\n",
      "/home/lucas/.pyenv/versions/3.8.0/envs/airbnbfirstbooking/lib/python3.8/site-packages/sklearn/metrics/_classification.py:1318: UndefinedMetricWarning: Precision and F-score are ill-defined and being set to 0.0 in labels with no predicted samples. Use `zero_division` parameter to control this behavior.\n",
      "  _warn_prf(average, modifier, msg_start, len(result))\n"
     ]
    },
    {
     "name": "stdout",
     "output_type": "stream",
     "text": [
      "              precision    recall  f1-score   support\n",
      "\n",
      "          AU       0.00      0.00      0.00       101\n",
      "          CA       0.00      0.00      0.00       214\n",
      "          DE       0.00      0.00      0.00       170\n",
      "          ES       0.00      0.00      0.00       345\n",
      "          FR       0.25      0.00      0.00       710\n",
      "          GB       0.00      0.00      0.00       344\n",
      "          IT       0.00      0.00      0.00       423\n",
      "          NL       0.00      0.00      0.00       128\n",
      "          PT       0.00      0.00      0.00        36\n",
      "          US       0.71      1.00      0.83      9624\n",
      "       other       0.08      0.00      0.00      1540\n",
      "\n",
      "    accuracy                           0.70     13635\n",
      "   macro avg       0.09      0.09      0.08     13635\n",
      "weighted avg       0.52      0.70      0.58     13635\n",
      "\n"
     ]
    },
    {
     "data": {
      "image/png": "[encoded data removed]",
      "text/plain": [
       "<Figure size 864x864 with 2 Axes>"
      ]
     },
     "metadata": {
      "needs_background": "light"
     },
     "output_type": "display_data"
    }
   ],
   "source": [
    "# Accuracy\n",
    "acc_nn = m.accuracy_score( y_test_nn, yhat_nn )\n",
    "print('Accuracy: {}'.format( acc_nn) )\n",
    "\n",
    "# Balanced Accuracy\n",
    "balanced_acc_nn = m.balanced_accuracy_score( y_test_nn, yhat_nn )\n",
    "print( 'Balanced Accuracy:{}'.format( balanced_acc_nn ) )\n",
    "\n",
    "# Kappa Metrics\n",
    "kappa_nn = m.cohen_kappa_score( y_test_nn, yhat_nn )\n",
    "print( 'Kappa Score: {}'.format( kappa_nn ) )\n",
    "\n",
    "# Classification report\n",
    "print( m.classification_report( y_test_nn, yhat_nn) )\n",
    "\n",
    "# Confusion Matrix\n",
    "mt.plot_confusion_matrix( y_test_nn, yhat_nn, normalize=False, figsize=(12,12) );"
   ]
  },
  {
   "cell_type": "code",
   "execution_count": 28,
   "id": "a6e522d6",
   "metadata": {
    "ExecuteTime": {
     "end_time": "2022-02-12T11:57:18.349714Z",
     "start_time": "2022-02-12T11:57:18.339344Z"
    }
   },
   "outputs": [
    {
     "data": {
      "text/plain": [
       "0.55"
      ]
     },
     "execution_count": 28,
     "metadata": {},
     "output_type": "execute_result"
    }
   ],
   "source": [
    "y_true = [0, 1, 0, 0, 1, 0, 0]\n",
    "y_pred = [0, 1, 0, 0, 0, 1, 1]\n",
    "m.balanced_accuracy_score(y_true, y_pred)"
   ]
  },
  {
   "cell_type": "code",
   "execution_count": null,
   "id": "5fe94e04",
   "metadata": {},
   "outputs": [],
   "source": []
  }
 ],
 "metadata": {
  "hide_input": false,
  "kernelspec": {
   "display_name": "Python 3 (ipykernel)",
   "language": "python",
   "name": "python3"
  },
  "language_info": {
   "codemirror_mode": {
    "name": "ipython",
    "version": 3
   },
   "file_extension": ".py",
   "mimetype": "text/x-python",
   "name": "python",
   "nbconvert_exporter": "python",
   "pygments_lexer": "ipython3",
   "version": "3.8.0"
  },
  "toc": {
   "base_numbering": 1,
   "nav_menu": {},
   "number_sections": true,
   "sideBar": true,
   "skip_h1_title": false,
   "title_cell": "Table of Contents",
   "title_sidebar": "Contents",
   "toc_cell": false,
   "toc_position": {},
   "toc_section_display": true,
   "toc_window_display": false
  },
  "varInspector": {
   "cols": {
    "lenName": 16,
    "lenType": 16,
    "lenVar": 40
   },
   "kernels_config": {
    "python": {
     "delete_cmd_postfix": "",
     "delete_cmd_prefix": "del ",
     "library": "var_list.py",
     "varRefreshCmd": "print(var_dic_list())"
    },
    "r": {
     "delete_cmd_postfix": ") ",
     "delete_cmd_prefix": "rm(",
     "library": "var_list.r",
     "varRefreshCmd": "cat(var_dic_list()) "
    }
   },
   "types_to_exclude": [
    "module",
    "function",
    "builtin_function_or_method",
    "instance",
    "_Feature"
   ],
   "window_display": false
  }
 },
 "nbformat": 4,
 "nbformat_minor": 5
}
